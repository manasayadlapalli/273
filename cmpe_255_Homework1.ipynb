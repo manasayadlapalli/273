{
  "nbformat": 4,
  "nbformat_minor": 0,
  "metadata": {
    "colab": {
      "provenance": [],
      "collapsed_sections": [],
      "authorship_tag": "ABX9TyN9dzuLbjUff5lpkWTqHzOn",
      "include_colab_link": true
    },
    "kernelspec": {
      "name": "python3",
      "display_name": "Python 3"
    },
    "language_info": {
      "name": "python"
    }
  },
  "cells": [
    {
      "cell_type": "markdown",
      "metadata": {
        "id": "view-in-github",
        "colab_type": "text"
      },
      "source": [
        "<a href=\"https://colab.research.google.com/github/manasayadlapalli/273/blob/main/cmpe_255_Homework1.ipynb\" target=\"_parent\"><img src=\"https://colab.research.google.com/assets/colab-badge.svg\" alt=\"Open In Colab\"/></a>"
      ]
    },
    {
      "cell_type": "markdown",
      "source": [
        "Created project cmpe-255, enabled billing and BigQuery API. Authenticated GCP credentials during run time\n"
      ],
      "metadata": {
        "id": "t9XTyobKQGUK"
      }
    },
    {
      "cell_type": "code",
      "source": [
        "from google.colab import auth\n",
        "auth.authenticate_user()\n",
        "print('Authenticated')"
      ],
      "metadata": {
        "colab": {
          "base_uri": "https://localhost:8080/"
        },
        "id": "cx8YYmLwQTBx",
        "outputId": "69c1e923-a4fb-4cb2-849c-abdbf25298a4"
      },
      "execution_count": 3,
      "outputs": [
        {
          "output_type": "stream",
          "name": "stdout",
          "text": [
            "Authenticated\n"
          ]
        }
      ]
    },
    {
      "cell_type": "markdown",
      "source": [
        "Enabled data table display"
      ],
      "metadata": {
        "id": "L9uthpEwSIv3"
      }
    },
    {
      "cell_type": "code",
      "source": [
        "%load_ext google.colab.data_table"
      ],
      "metadata": {
        "id": "oulozDmjSMOO"
      },
      "execution_count": 4,
      "outputs": []
    },
    {
      "cell_type": "markdown",
      "source": [
        "Declared the Cloud project ID for notebook purpose"
      ],
      "metadata": {
        "id": "yZEYq2ikScKX"
      }
    },
    {
      "cell_type": "code",
      "source": [
        "project_id = 'cmpe-255-362622'"
      ],
      "metadata": {
        "id": "TaoYuNPmSfUs"
      },
      "execution_count": 5,
      "outputs": []
    },
    {
      "cell_type": "code",
      "source": [
        "!gcloud config list"
      ],
      "metadata": {
        "colab": {
          "base_uri": "https://localhost:8080/"
        },
        "id": "Z741pqasSml9",
        "outputId": "e3cdf91f-ac2c-43d6-b5d7-3b54f82d7a8d"
      },
      "execution_count": 6,
      "outputs": [
        {
          "output_type": "stream",
          "name": "stdout",
          "text": [
            "[component_manager]\n",
            "disable_update_check = True\n",
            "[core]\n",
            "account = saimanasa.yadlapalli@sjsu.edu\n",
            "project = cmpe-255-362622\n",
            "\n",
            "Your active configuration is: [default]\n"
          ]
        }
      ]
    },
    {
      "cell_type": "code",
      "source": [
        "!gcloud config set project 'cmpe-255-362622'"
      ],
      "metadata": {
        "colab": {
          "base_uri": "https://localhost:8080/"
        },
        "id": "V92Oi7vbT85d",
        "outputId": "c7c2652b-03d1-487c-a903-acbb665e8025"
      },
      "execution_count": 7,
      "outputs": [
        {
          "output_type": "stream",
          "name": "stdout",
          "text": [
            "Updated property [core/project].\n"
          ]
        }
      ]
    },
    {
      "cell_type": "code",
      "source": [
        "!gcloud config list project"
      ],
      "metadata": {
        "colab": {
          "base_uri": "https://localhost:8080/"
        },
        "id": "dTTWVzYsUELw",
        "outputId": "250664a7-944d-48bf-c27b-c50015d22010"
      },
      "execution_count": 8,
      "outputs": [
        {
          "output_type": "stream",
          "name": "stdout",
          "text": [
            "[core]\n",
            "project = cmpe-255-362622\n",
            "\n",
            "Your active configuration is: [default]\n"
          ]
        }
      ]
    },
    {
      "cell_type": "markdown",
      "source": [
        "# Public dataset\n",
        "Stack Overflow is the largest online community for programmers to learn, share their knowledge, and advance their careers. Updated on a quarterly basis, this BigQuery dataset includes an archive of Stack Overflow content, including posts, votes, tags, and badges. This dataset is updated to mirror the Stack Overflow content on the Internet Archive, and is also available through the Stack Exchange Data Explorer.\n",
        "\n",
        "Data set is 33.14 GB Long term storage size, Number of rows 20,890,054.\n",
        "Check schema on  "
      ],
      "metadata": {
        "id": "BEnQ0XnkbcvY"
      }
    },
    {
      "cell_type": "code",
      "source": [
        "from google.cloud import bigquery"
      ],
      "metadata": {
        "id": "zdc57SmpgHz-"
      },
      "execution_count": 9,
      "outputs": []
    },
    {
      "cell_type": "code",
      "source": [
        "#create client object\n",
        "client = bigquery.Client(project = project_id)"
      ],
      "metadata": {
        "id": "sSE6CRAxgh3Q"
      },
      "execution_count": 10,
      "outputs": []
    },
    {
      "cell_type": "code",
      "source": [
        "dataset_ref = client.dataset(\"noaa_gsod\",\"bigquery-public-data\")\n",
        "dataset = client.get_dataset(dataset_ref)"
      ],
      "metadata": {
        "id": "FPzK-xsEkYwT"
      },
      "execution_count": 11,
      "outputs": []
    },
    {
      "cell_type": "code",
      "source": [
        "tables = client.list_tables(dataset)\n",
        "\n",
        "for table in tables:\n",
        "  print(table.full_table_id)\n",
        "  "
      ],
      "metadata": {
        "colab": {
          "base_uri": "https://localhost:8080/"
        },
        "id": "p-H8qzw8kfkd",
        "outputId": "7717492a-312b-4e7c-e4aa-21242e9407f6"
      },
      "execution_count": 12,
      "outputs": [
        {
          "output_type": "stream",
          "name": "stdout",
          "text": [
            "bigquery-public-data:noaa_gsod.gsod1929\n",
            "bigquery-public-data:noaa_gsod.gsod1930\n",
            "bigquery-public-data:noaa_gsod.gsod1931\n",
            "bigquery-public-data:noaa_gsod.gsod1932\n",
            "bigquery-public-data:noaa_gsod.gsod1933\n",
            "bigquery-public-data:noaa_gsod.gsod1934\n",
            "bigquery-public-data:noaa_gsod.gsod1935\n",
            "bigquery-public-data:noaa_gsod.gsod1936\n",
            "bigquery-public-data:noaa_gsod.gsod1937\n",
            "bigquery-public-data:noaa_gsod.gsod1938\n",
            "bigquery-public-data:noaa_gsod.gsod1939\n",
            "bigquery-public-data:noaa_gsod.gsod1940\n",
            "bigquery-public-data:noaa_gsod.gsod1941\n",
            "bigquery-public-data:noaa_gsod.gsod1942\n",
            "bigquery-public-data:noaa_gsod.gsod1943\n",
            "bigquery-public-data:noaa_gsod.gsod1944\n",
            "bigquery-public-data:noaa_gsod.gsod1945\n",
            "bigquery-public-data:noaa_gsod.gsod1946\n",
            "bigquery-public-data:noaa_gsod.gsod1947\n",
            "bigquery-public-data:noaa_gsod.gsod1948\n",
            "bigquery-public-data:noaa_gsod.gsod1949\n",
            "bigquery-public-data:noaa_gsod.gsod1950\n",
            "bigquery-public-data:noaa_gsod.gsod1951\n",
            "bigquery-public-data:noaa_gsod.gsod1952\n",
            "bigquery-public-data:noaa_gsod.gsod1953\n",
            "bigquery-public-data:noaa_gsod.gsod1954\n",
            "bigquery-public-data:noaa_gsod.gsod1955\n",
            "bigquery-public-data:noaa_gsod.gsod1956\n",
            "bigquery-public-data:noaa_gsod.gsod1957\n",
            "bigquery-public-data:noaa_gsod.gsod1958\n",
            "bigquery-public-data:noaa_gsod.gsod1959\n",
            "bigquery-public-data:noaa_gsod.gsod1960\n",
            "bigquery-public-data:noaa_gsod.gsod1961\n",
            "bigquery-public-data:noaa_gsod.gsod1962\n",
            "bigquery-public-data:noaa_gsod.gsod1963\n",
            "bigquery-public-data:noaa_gsod.gsod1964\n",
            "bigquery-public-data:noaa_gsod.gsod1965\n",
            "bigquery-public-data:noaa_gsod.gsod1966\n",
            "bigquery-public-data:noaa_gsod.gsod1967\n",
            "bigquery-public-data:noaa_gsod.gsod1968\n",
            "bigquery-public-data:noaa_gsod.gsod1969\n",
            "bigquery-public-data:noaa_gsod.gsod1970\n",
            "bigquery-public-data:noaa_gsod.gsod1971\n",
            "bigquery-public-data:noaa_gsod.gsod1972\n",
            "bigquery-public-data:noaa_gsod.gsod1973\n",
            "bigquery-public-data:noaa_gsod.gsod1974\n",
            "bigquery-public-data:noaa_gsod.gsod1975\n",
            "bigquery-public-data:noaa_gsod.gsod1976\n",
            "bigquery-public-data:noaa_gsod.gsod1977\n",
            "bigquery-public-data:noaa_gsod.gsod1978\n",
            "bigquery-public-data:noaa_gsod.gsod1979\n",
            "bigquery-public-data:noaa_gsod.gsod1980\n",
            "bigquery-public-data:noaa_gsod.gsod1981\n",
            "bigquery-public-data:noaa_gsod.gsod1982\n",
            "bigquery-public-data:noaa_gsod.gsod1983\n",
            "bigquery-public-data:noaa_gsod.gsod1984\n",
            "bigquery-public-data:noaa_gsod.gsod1985\n",
            "bigquery-public-data:noaa_gsod.gsod1986\n",
            "bigquery-public-data:noaa_gsod.gsod1987\n",
            "bigquery-public-data:noaa_gsod.gsod1988\n",
            "bigquery-public-data:noaa_gsod.gsod1989\n",
            "bigquery-public-data:noaa_gsod.gsod1990\n",
            "bigquery-public-data:noaa_gsod.gsod1991\n",
            "bigquery-public-data:noaa_gsod.gsod1992\n",
            "bigquery-public-data:noaa_gsod.gsod1993\n",
            "bigquery-public-data:noaa_gsod.gsod1994\n",
            "bigquery-public-data:noaa_gsod.gsod1995\n",
            "bigquery-public-data:noaa_gsod.gsod1996\n",
            "bigquery-public-data:noaa_gsod.gsod1997\n",
            "bigquery-public-data:noaa_gsod.gsod1998\n",
            "bigquery-public-data:noaa_gsod.gsod1999\n",
            "bigquery-public-data:noaa_gsod.gsod2000\n",
            "bigquery-public-data:noaa_gsod.gsod2001\n",
            "bigquery-public-data:noaa_gsod.gsod2002\n",
            "bigquery-public-data:noaa_gsod.gsod2003\n",
            "bigquery-public-data:noaa_gsod.gsod2004\n",
            "bigquery-public-data:noaa_gsod.gsod2005\n",
            "bigquery-public-data:noaa_gsod.gsod2006\n",
            "bigquery-public-data:noaa_gsod.gsod2007\n",
            "bigquery-public-data:noaa_gsod.gsod2008\n",
            "bigquery-public-data:noaa_gsod.gsod2009\n",
            "bigquery-public-data:noaa_gsod.gsod2010\n",
            "bigquery-public-data:noaa_gsod.gsod2011\n",
            "bigquery-public-data:noaa_gsod.gsod2012\n",
            "bigquery-public-data:noaa_gsod.gsod2013\n",
            "bigquery-public-data:noaa_gsod.gsod2014\n",
            "bigquery-public-data:noaa_gsod.gsod2015\n",
            "bigquery-public-data:noaa_gsod.gsod2016\n",
            "bigquery-public-data:noaa_gsod.gsod2017\n",
            "bigquery-public-data:noaa_gsod.gsod2018\n",
            "bigquery-public-data:noaa_gsod.gsod2019\n",
            "bigquery-public-data:noaa_gsod.gsod2020\n",
            "bigquery-public-data:noaa_gsod.gsod2021\n",
            "bigquery-public-data:noaa_gsod.gsod2022\n",
            "bigquery-public-data:noaa_gsod.stations\n"
          ]
        }
      ]
    },
    {
      "cell_type": "code",
      "source": [
        "table_ref = dataset_ref.table(\"gsod2022\")\n",
        "table = client.get_table(table_ref)\n",
        "table.schema"
      ],
      "metadata": {
        "id": "U1C8U07Ukku4",
        "colab": {
          "base_uri": "https://localhost:8080/"
        },
        "outputId": "36990ad5-eed8-401b-c9e3-159d7663e07d"
      },
      "execution_count": 13,
      "outputs": [
        {
          "output_type": "execute_result",
          "data": {
            "text/plain": [
              "[SchemaField('stn', 'STRING', 'NULLABLE', 'Cloud - GSOD NOAA', ()),\n",
              " SchemaField('wban', 'STRING', 'NULLABLE', 'WBAN number where applicable--this is the historical \"Weather Bureau Air Force Navy\" number - with WBAN being the acronym', ()),\n",
              " SchemaField('date', 'DATE', 'NULLABLE', 'Date of the weather observations', ()),\n",
              " SchemaField('year', 'STRING', 'NULLABLE', 'The year', ()),\n",
              " SchemaField('mo', 'STRING', 'NULLABLE', 'The month', ()),\n",
              " SchemaField('da', 'STRING', 'NULLABLE', 'The day', ()),\n",
              " SchemaField('temp', 'FLOAT', 'NULLABLE', 'Mean temperature for the day in degrees Fahrenheit to tenths. Missing = 9999.9', ()),\n",
              " SchemaField('count_temp', 'INTEGER', 'NULLABLE', 'Number of observations used in calculating mean temperature', ()),\n",
              " SchemaField('dewp', 'FLOAT', 'NULLABLE', 'Mean dew point for the day in degreesm Fahrenheit to tenths.  Missing = 9999.9', ()),\n",
              " SchemaField('count_dewp', 'INTEGER', 'NULLABLE', 'Number of observations used in calculating mean dew point', ()),\n",
              " SchemaField('slp', 'FLOAT', 'NULLABLE', 'Mean sea level pressure for the day in millibars to tenths. Missing = 9999.9', ()),\n",
              " SchemaField('count_slp', 'INTEGER', 'NULLABLE', 'Number of observations used in calculating mean sea level pressure', ()),\n",
              " SchemaField('stp', 'FLOAT', 'NULLABLE', 'Mean station pressure for the day in millibars to tenths. Missing = 9999.9', ()),\n",
              " SchemaField('count_stp', 'INTEGER', 'NULLABLE', 'Number of observations used in calculating mean station pressure', ()),\n",
              " SchemaField('visib', 'FLOAT', 'NULLABLE', 'Mean visibility for the day in miles to tenths.  Missing = 999.9', ()),\n",
              " SchemaField('count_visib', 'INTEGER', 'NULLABLE', 'Number of observations used in calculating mean visibility', ()),\n",
              " SchemaField('wdsp', 'STRING', 'NULLABLE', 'Mean wind speed for the day in knots to tenths. Missing = 999.9', ()),\n",
              " SchemaField('count_wdsp', 'STRING', 'NULLABLE', 'Number of observations used in calculating mean wind speed', ()),\n",
              " SchemaField('mxpsd', 'STRING', 'NULLABLE', 'Maximum sustained wind speed reported for the day in knots to tenths. Missing = 999.9', ()),\n",
              " SchemaField('gust', 'FLOAT', 'NULLABLE', 'Maximum wind gust reported for the day in knots to tenths. Missing = 999.9', ()),\n",
              " SchemaField('max', 'FLOAT', 'NULLABLE', 'Maximum temperature reported during the day in Fahrenheit to tenths--time of max temp report varies by country and region, so this will sometimes not be the max for the calendar day. Missing = 9999.9', ()),\n",
              " SchemaField('flag_max', 'STRING', 'NULLABLE', \"Blank indicates max temp was taken from the explicit max temp report and not from the 'hourly' data. * indicates max temp was  derived from the hourly data (i.e., highest hourly or synoptic-reported temperature)\", ()),\n",
              " SchemaField('min', 'FLOAT', 'NULLABLE', 'Minimum temperature reported during the day in Fahrenheit to tenths--time of min temp report varies by country and region, so this will sometimes not be the min for the calendar day. Missing = 9999.9', ()),\n",
              " SchemaField('flag_min', 'STRING', 'NULLABLE', \"Blank indicates min temp was taken from the explicit min temp report and not from the 'hourly' data. * indicates min temp was derived from the hourly data (i.e., lowest hourly or synoptic-reported temperature)\", ()),\n",
              " SchemaField('prcp', 'FLOAT', 'NULLABLE', \"Total precipitation (rain and/or melted snow) reported during the day in inches and hundredths; will usually not end with the midnight observation--i.e., may include latter part of previous day.  .00 indicates no measurable precipitation (includes a trace). Missing = 99.99 Note: Many stations do not report '0' on days with no precipitation--therefore, '99.99' will often appear on these days. Also, for example, a station may only report a 6-hour amount for the period during which rain fell. See Flag field for source of data\", ()),\n",
              " SchemaField('flag_prcp', 'STRING', 'NULLABLE', \"A = 1 report of 6-hour precipitation amount B = Summation of 2 reports of 6-hour precipitation amount C = Summation of 3 reports of 6-hour precipitation amount D = Summation of 4 reports of 6-hour precipitation amount E = 1 report of 12-hour precipitation amount F = Summation of 2 reports of 12-hour precipitation amount G = 1 report of 24-hour precipitation amount H = Station reported '0' as the amount for the day (eg, from 6-hour reports), but also reported at least one occurrence of precipitation in hourly observations--this could indicate a trace occurred, but should be considered as incomplete data for the day. I = Station did not report any precip data for the day and did not report any occurrences of precipitation in its hourly observations--it's still possible that precip occurred but was not reported\", ()),\n",
              " SchemaField('sndp', 'FLOAT', 'NULLABLE', \"Snow depth in inches to tenths--last report for the day if reported more thanonce. Missing = 999.9 Note: Most stations do not report '0' ondays with no snow on the ground--therefore, '999.9' will often appear on these days\", ()),\n",
              " SchemaField('fog', 'STRING', 'NULLABLE', 'Indicators (1 = yes, 0 = no/not reported) for the occurrence during the day', ()),\n",
              " SchemaField('rain_drizzle', 'STRING', 'NULLABLE', 'Indicators (1 = yes, 0 = no/not reported) for the occurrence during the day', ()),\n",
              " SchemaField('snow_ice_pellets', 'STRING', 'NULLABLE', 'Indicators (1 = yes, 0 = no/not reported) for the occurrence during the day', ()),\n",
              " SchemaField('hail', 'STRING', 'NULLABLE', 'Indicators (1 = yes, 0 = no/not reported) for the occurrence during the day', ()),\n",
              " SchemaField('thunder', 'STRING', 'NULLABLE', 'Indicators (1 = yes, 0 = no/not reported) for the occurrence during the day', ()),\n",
              " SchemaField('tornado_funnel_cloud', 'STRING', 'NULLABLE', 'Indicators (1 = yes, 0 = no/not reported) for the occurrence during the day', ())]"
            ]
          },
          "metadata": {},
          "execution_count": 13
        }
      ]
    },
    {
      "cell_type": "markdown",
      "source": [
        "# Global Surface Summary of the Day Weather Data\n",
        "\n",
        "This public dataset was created by the National Oceanic and Atmospheric Administration (NOAA) and includes global data obtained from the USAF Climatology Center. This dataset covers GSOD data between 1929 and present (updated daily), collected from over 9000 stations.\n",
        "\n",
        "Global summary of the day is comprised of a dozen daily averages computed from global hourly station data. Daily weather elements include mean values of: temperature, dew point temperature, sea level pressure, station pressure, visibility, and wind speed plus maximum and minimum temperature, maximum sustained wind speed and maximum gust, precipitation amount, snow depth, and weather indicators. With the exception of U.S. stations, 24-hour periods are based upon UTC times.\n",
        "\n",
        "This public dataset is hosted in Google BigQuery and is included in BigQuery's 1TB/mo of free tier processing."
      ],
      "metadata": {
        "id": "uynrQLc5pfI5"
      }
    },
    {
      "cell_type": "code",
      "source": [
        "query1 =\"\"\"\n",
        "#standardSQL\n",
        "SELECT\n",
        "  max,\n",
        "  (max-32)*5/9 celsius,\n",
        "  mo,\n",
        "  da,\n",
        "  state,\n",
        "  stn,\n",
        "  name\n",
        "FROM (\n",
        "  SELECT\n",
        "    max,\n",
        "    mo,\n",
        "    da,\n",
        "    state,\n",
        "    stn,\n",
        "    name,\n",
        "    ROW_NUMBER() OVER(PARTITION BY state ORDER BY max DESC) rn\n",
        "  FROM\n",
        "    `bigquery-public-data.noaa_gsod.gsod2022` a\n",
        "  JOIN\n",
        "    `bigquery-public-data.noaa_gsod.stations` b\n",
        "  ON\n",
        "    a.stn=b.usaf\n",
        "    AND a.wban=b.wban\n",
        "  WHERE\n",
        "    state IS NOT NULL\n",
        "    AND max<1000\n",
        "    AND country='US' )\n",
        "WHERE\n",
        "  rn=1\n",
        "ORDER BY\n",
        "  max DESC\n",
        "        \"\"\"\n",
        "dfquery = client.query(query1)\n",
        "df_scc = dfquery.to_dataframe()"
      ],
      "metadata": {
        "id": "ZO-ECiGldO-p"
      },
      "execution_count": 14,
      "outputs": []
    },
    {
      "cell_type": "code",
      "source": [
        "%load_ext google.colab.data_table\n",
        "df_cal=dfquery.to_dataframe()"
      ],
      "metadata": {
        "colab": {
          "base_uri": "https://localhost:8080/"
        },
        "id": "RkJO36Vak21d",
        "outputId": "e9e80bea-82ea-4170-b0ba-633c9b84956a"
      },
      "execution_count": 15,
      "outputs": [
        {
          "output_type": "stream",
          "name": "stdout",
          "text": [
            "The google.colab.data_table extension is already loaded. To reload it, use:\n",
            "  %reload_ext google.colab.data_table\n"
          ]
        }
      ]
    },
    {
      "cell_type": "code",
      "source": [
        "df_cal.shape"
      ],
      "metadata": {
        "colab": {
          "base_uri": "https://localhost:8080/"
        },
        "id": "3fJcN6wZmIJU",
        "outputId": "940b0c6d-65c6-45ef-c32d-97967cca97b4"
      },
      "execution_count": 16,
      "outputs": [
        {
          "output_type": "execute_result",
          "data": {
            "text/plain": [
              "(53, 7)"
            ]
          },
          "metadata": {},
          "execution_count": 16
        }
      ]
    },
    {
      "cell_type": "code",
      "source": [
        "df_cal.tail(200)"
      ],
      "metadata": {
        "colab": {
          "base_uri": "https://localhost:8080/",
          "height": 638
        },
        "id": "MTOlW27pmLEb",
        "outputId": "92c1ac51-9d72-47ff-e6c2-578073cf0c72"
      },
      "execution_count": 17,
      "outputs": [
        {
          "output_type": "execute_result",
          "data": {
            "text/plain": [
              "      max    celsius  mo  da state     stn                           name\n",
              "0   132.8  56.000000  06  26    ME  720472             STEVEN A BEAN MUNI\n",
              "1   129.0  53.888889  08  07    TX  722595   FORT WORTH NAVAL AIR STATION\n",
              "2   126.0  52.222222  07  30    VA  724035                  QUANTICO MCAF\n",
              "3   124.7  51.500000  05  05    WY  720977  ALPHA (BURNS)                \n",
              "4   122.4  50.222222  07  12    CA  999999  STOVEPIPE WELLS 1 SW         \n",
              "5   116.8  47.111111  07  21    NV  746140             NELLIS AFB AIRPORT\n",
              "6   116.6  47.000000  07  17    AZ  723788  LAUGHLIN/BULLHEAD INTERNATION\n",
              "7   115.0  46.111111  07  19    OK  723525       HOBART MUNICIPAL AIRPORT\n",
              "8   114.8  46.000000  08  01    MS  720769         GEORGE M BRYAN AIRPORT\n",
              "9   114.1  45.611111  07  29    OR  725970  ROGUE VALLEY INTL-MEDFORD AIR\n",
              "10  111.9  44.388889  06  12    NM  723676       TUCUMCARI MUNICIPAL ARPT\n",
              "11  111.9  44.388889  07  30    WA  727845             TRI-CITIES AIRPORT\n",
              "12  111.9  44.388889  07  19    KS  724520                 MEDICINE LODGE\n",
              "13  111.0  43.888889  08  02    SD  726518        WINNER REGIONAL AIRPORT\n",
              "14  111.0  43.888889  07  19    NE  725636      CHADRON MUNICIPAL AIRPORT\n",
              "15  111.0  43.888889  09  06    UT  724754       ST GEORGE MUNICIPAL ARPT\n",
              "16  109.9  43.277778  07  23    CO  724636        LAMAR MUNICIPAL AIRPORT\n",
              "17  109.4  43.000000  07  20    GA  720348         BALDWIN COUNTY AIRPORT\n",
              "18  109.0  42.777778  09  20    FL  747931     WINTER HAVEN'S GILBERT APT\n",
              "19  108.0  42.222222  07  29    ID  725784                       ELK CITY\n",
              "20  108.0  42.222222  07  20    AR  723440    FORT SMITH REGIONAL AIRPORT\n",
              "21  108.0  42.222222  07  17    MT  727680  WOKAL FIELD/GLASGOW INTL AIRP\n",
              "22  107.6  42.000000  07  05    IA  725484      LE MARS MUNICIPAL AIRPORT\n",
              "23  107.1  41.722222  07  26    MO  723495        JOPLIN REGIONAL AIRPORT\n",
              "24  105.1  40.611111  06  27    LA  722480    SHREVEPORT REGIONAL AIRPORT\n",
              "25  105.1  40.611111  06  24    AL  722275  ANDALUSIA-OPP MUNICIPAL AIRPO\n",
              "26  104.0  40.000000  09  20    KY  724235           BOWMAN FIELD AIRPORT\n",
              "27  102.9  39.388889  07  06    TN  723340  MEMPHIS INTERNATIONAL AIRPORT\n",
              "28  102.9  39.388889  08  04    ND  727640     BISMARCK MUNICIPAL AIRPORT\n",
              "29  102.9  39.388889  06  13    SC  723100  COLUMBIA METROPOLITAN AIRPORT\n",
              "30  102.2  39.000000  07  24    MD  720699  CARROLL CO RGNL/JJACK B POAGE\n",
              "31  102.2  39.000000  06  19    MN  727466     MDSON-LAC QUI PARLE CO APT\n",
              "32  102.2  39.000000  06  20    WI  726418  L.O. SIMENSTAD MUNICIPAL AIRP\n",
              "33  102.2  39.000000  07  28    NC  723193         SMITH REYNOLDS AIRPORT\n",
              "34  102.0  38.888889  08  27    HI  911975      KONA INTL AT KEAHOLE ARPT\n",
              "35  102.0  38.888889  07  24    NJ  725020   NEWARK LIBERTY INTERNATIONAL\n",
              "36  100.9  38.277778  07  06    IN  724373     TER HUTE INTL-HULMAN FD AP\n",
              "37  100.9  38.277778  07  24    PA  997286                   PHILADELPHIA\n",
              "38  100.9  38.277778  06  21    IL  725340       CHICAGO MIDWAY INTL ARPT\n",
              "39  100.0  37.777778  06  21    OH  725360         TOLEDO EXPRESS AIRPORT\n",
              "40  100.0  37.777778  07  25    MA  725090  GEN E L LOGAN INTERNATIONAL A\n",
              "41  100.0  37.777778  08  05    NH  726056               SKYHAVEN AIRPORT\n",
              "42   99.0  37.222222  08  09    CT  725087      HARTFORD-BRAINARD AIRPORT\n",
              "43   99.0  37.222222  08  03    MI  725376             WILLOW RUN AIRPORT\n",
              "44   99.0  37.222222  08  04    NY  725180   ALBANY INTERNATIONAL AIRPORT\n",
              "45   98.1  36.722222  07  24    RI  725070  THEODORE F GREEN STATE AIRPOR\n",
              "46   97.2  36.222222  08  04    DE  724088              DOVER AFB AIRPORT\n",
              "47   96.1  35.611111  06  15    WV  724175      HARRISON/MARION RGNL ARPT\n",
              "48   95.7  35.388889  06  17    DC  997314                     WASHINGTON\n",
              "49   95.0  35.000000  09  01    VI  785510        HENRY E ROHLSEN AIRPORT\n",
              "50   95.0  35.000000  07  24    VT  726115     HARTNESS ST (SPNGFLD) ARPT\n",
              "51   93.9  34.388889  06  05    PR  785260  LUIS MUNOZ MARIN INTERNATIONA\n",
              "52   88.0  31.111111  06  20    AK  702006                 KALTAG AIRPORT"
            ],
            "text/html": [
              "\n",
              "  <div id=\"df-02e2a025-5586-4af1-bd00-6d430daa3d70\">\n",
              "    <div class=\"colab-df-container\">\n",
              "      <div>\n",
              "<style scoped>\n",
              "    .dataframe tbody tr th:only-of-type {\n",
              "        vertical-align: middle;\n",
              "    }\n",
              "\n",
              "    .dataframe tbody tr th {\n",
              "        vertical-align: top;\n",
              "    }\n",
              "\n",
              "    .dataframe thead th {\n",
              "        text-align: right;\n",
              "    }\n",
              "</style>\n",
              "<table border=\"1\" class=\"dataframe\">\n",
              "  <thead>\n",
              "    <tr style=\"text-align: right;\">\n",
              "      <th></th>\n",
              "      <th>max</th>\n",
              "      <th>celsius</th>\n",
              "      <th>mo</th>\n",
              "      <th>da</th>\n",
              "      <th>state</th>\n",
              "      <th>stn</th>\n",
              "      <th>name</th>\n",
              "    </tr>\n",
              "  </thead>\n",
              "  <tbody>\n",
              "    <tr>\n",
              "      <th>0</th>\n",
              "      <td>132.8</td>\n",
              "      <td>56.000000</td>\n",
              "      <td>06</td>\n",
              "      <td>26</td>\n",
              "      <td>ME</td>\n",
              "      <td>720472</td>\n",
              "      <td>STEVEN A BEAN MUNI</td>\n",
              "    </tr>\n",
              "    <tr>\n",
              "      <th>1</th>\n",
              "      <td>129.0</td>\n",
              "      <td>53.888889</td>\n",
              "      <td>08</td>\n",
              "      <td>07</td>\n",
              "      <td>TX</td>\n",
              "      <td>722595</td>\n",
              "      <td>FORT WORTH NAVAL AIR STATION</td>\n",
              "    </tr>\n",
              "    <tr>\n",
              "      <th>2</th>\n",
              "      <td>126.0</td>\n",
              "      <td>52.222222</td>\n",
              "      <td>07</td>\n",
              "      <td>30</td>\n",
              "      <td>VA</td>\n",
              "      <td>724035</td>\n",
              "      <td>QUANTICO MCAF</td>\n",
              "    </tr>\n",
              "    <tr>\n",
              "      <th>3</th>\n",
              "      <td>124.7</td>\n",
              "      <td>51.500000</td>\n",
              "      <td>05</td>\n",
              "      <td>05</td>\n",
              "      <td>WY</td>\n",
              "      <td>720977</td>\n",
              "      <td>ALPHA (BURNS)</td>\n",
              "    </tr>\n",
              "    <tr>\n",
              "      <th>4</th>\n",
              "      <td>122.4</td>\n",
              "      <td>50.222222</td>\n",
              "      <td>07</td>\n",
              "      <td>12</td>\n",
              "      <td>CA</td>\n",
              "      <td>999999</td>\n",
              "      <td>STOVEPIPE WELLS 1 SW</td>\n",
              "    </tr>\n",
              "    <tr>\n",
              "      <th>5</th>\n",
              "      <td>116.8</td>\n",
              "      <td>47.111111</td>\n",
              "      <td>07</td>\n",
              "      <td>21</td>\n",
              "      <td>NV</td>\n",
              "      <td>746140</td>\n",
              "      <td>NELLIS AFB AIRPORT</td>\n",
              "    </tr>\n",
              "    <tr>\n",
              "      <th>6</th>\n",
              "      <td>116.6</td>\n",
              "      <td>47.000000</td>\n",
              "      <td>07</td>\n",
              "      <td>17</td>\n",
              "      <td>AZ</td>\n",
              "      <td>723788</td>\n",
              "      <td>LAUGHLIN/BULLHEAD INTERNATION</td>\n",
              "    </tr>\n",
              "    <tr>\n",
              "      <th>7</th>\n",
              "      <td>115.0</td>\n",
              "      <td>46.111111</td>\n",
              "      <td>07</td>\n",
              "      <td>19</td>\n",
              "      <td>OK</td>\n",
              "      <td>723525</td>\n",
              "      <td>HOBART MUNICIPAL AIRPORT</td>\n",
              "    </tr>\n",
              "    <tr>\n",
              "      <th>8</th>\n",
              "      <td>114.8</td>\n",
              "      <td>46.000000</td>\n",
              "      <td>08</td>\n",
              "      <td>01</td>\n",
              "      <td>MS</td>\n",
              "      <td>720769</td>\n",
              "      <td>GEORGE M BRYAN AIRPORT</td>\n",
              "    </tr>\n",
              "    <tr>\n",
              "      <th>9</th>\n",
              "      <td>114.1</td>\n",
              "      <td>45.611111</td>\n",
              "      <td>07</td>\n",
              "      <td>29</td>\n",
              "      <td>OR</td>\n",
              "      <td>725970</td>\n",
              "      <td>ROGUE VALLEY INTL-MEDFORD AIR</td>\n",
              "    </tr>\n",
              "    <tr>\n",
              "      <th>10</th>\n",
              "      <td>111.9</td>\n",
              "      <td>44.388889</td>\n",
              "      <td>06</td>\n",
              "      <td>12</td>\n",
              "      <td>NM</td>\n",
              "      <td>723676</td>\n",
              "      <td>TUCUMCARI MUNICIPAL ARPT</td>\n",
              "    </tr>\n",
              "    <tr>\n",
              "      <th>11</th>\n",
              "      <td>111.9</td>\n",
              "      <td>44.388889</td>\n",
              "      <td>07</td>\n",
              "      <td>30</td>\n",
              "      <td>WA</td>\n",
              "      <td>727845</td>\n",
              "      <td>TRI-CITIES AIRPORT</td>\n",
              "    </tr>\n",
              "    <tr>\n",
              "      <th>12</th>\n",
              "      <td>111.9</td>\n",
              "      <td>44.388889</td>\n",
              "      <td>07</td>\n",
              "      <td>19</td>\n",
              "      <td>KS</td>\n",
              "      <td>724520</td>\n",
              "      <td>MEDICINE LODGE</td>\n",
              "    </tr>\n",
              "    <tr>\n",
              "      <th>13</th>\n",
              "      <td>111.0</td>\n",
              "      <td>43.888889</td>\n",
              "      <td>08</td>\n",
              "      <td>02</td>\n",
              "      <td>SD</td>\n",
              "      <td>726518</td>\n",
              "      <td>WINNER REGIONAL AIRPORT</td>\n",
              "    </tr>\n",
              "    <tr>\n",
              "      <th>14</th>\n",
              "      <td>111.0</td>\n",
              "      <td>43.888889</td>\n",
              "      <td>07</td>\n",
              "      <td>19</td>\n",
              "      <td>NE</td>\n",
              "      <td>725636</td>\n",
              "      <td>CHADRON MUNICIPAL AIRPORT</td>\n",
              "    </tr>\n",
              "    <tr>\n",
              "      <th>15</th>\n",
              "      <td>111.0</td>\n",
              "      <td>43.888889</td>\n",
              "      <td>09</td>\n",
              "      <td>06</td>\n",
              "      <td>UT</td>\n",
              "      <td>724754</td>\n",
              "      <td>ST GEORGE MUNICIPAL ARPT</td>\n",
              "    </tr>\n",
              "    <tr>\n",
              "      <th>16</th>\n",
              "      <td>109.9</td>\n",
              "      <td>43.277778</td>\n",
              "      <td>07</td>\n",
              "      <td>23</td>\n",
              "      <td>CO</td>\n",
              "      <td>724636</td>\n",
              "      <td>LAMAR MUNICIPAL AIRPORT</td>\n",
              "    </tr>\n",
              "    <tr>\n",
              "      <th>17</th>\n",
              "      <td>109.4</td>\n",
              "      <td>43.000000</td>\n",
              "      <td>07</td>\n",
              "      <td>20</td>\n",
              "      <td>GA</td>\n",
              "      <td>720348</td>\n",
              "      <td>BALDWIN COUNTY AIRPORT</td>\n",
              "    </tr>\n",
              "    <tr>\n",
              "      <th>18</th>\n",
              "      <td>109.0</td>\n",
              "      <td>42.777778</td>\n",
              "      <td>09</td>\n",
              "      <td>20</td>\n",
              "      <td>FL</td>\n",
              "      <td>747931</td>\n",
              "      <td>WINTER HAVEN'S GILBERT APT</td>\n",
              "    </tr>\n",
              "    <tr>\n",
              "      <th>19</th>\n",
              "      <td>108.0</td>\n",
              "      <td>42.222222</td>\n",
              "      <td>07</td>\n",
              "      <td>29</td>\n",
              "      <td>ID</td>\n",
              "      <td>725784</td>\n",
              "      <td>ELK CITY</td>\n",
              "    </tr>\n",
              "    <tr>\n",
              "      <th>20</th>\n",
              "      <td>108.0</td>\n",
              "      <td>42.222222</td>\n",
              "      <td>07</td>\n",
              "      <td>20</td>\n",
              "      <td>AR</td>\n",
              "      <td>723440</td>\n",
              "      <td>FORT SMITH REGIONAL AIRPORT</td>\n",
              "    </tr>\n",
              "    <tr>\n",
              "      <th>21</th>\n",
              "      <td>108.0</td>\n",
              "      <td>42.222222</td>\n",
              "      <td>07</td>\n",
              "      <td>17</td>\n",
              "      <td>MT</td>\n",
              "      <td>727680</td>\n",
              "      <td>WOKAL FIELD/GLASGOW INTL AIRP</td>\n",
              "    </tr>\n",
              "    <tr>\n",
              "      <th>22</th>\n",
              "      <td>107.6</td>\n",
              "      <td>42.000000</td>\n",
              "      <td>07</td>\n",
              "      <td>05</td>\n",
              "      <td>IA</td>\n",
              "      <td>725484</td>\n",
              "      <td>LE MARS MUNICIPAL AIRPORT</td>\n",
              "    </tr>\n",
              "    <tr>\n",
              "      <th>23</th>\n",
              "      <td>107.1</td>\n",
              "      <td>41.722222</td>\n",
              "      <td>07</td>\n",
              "      <td>26</td>\n",
              "      <td>MO</td>\n",
              "      <td>723495</td>\n",
              "      <td>JOPLIN REGIONAL AIRPORT</td>\n",
              "    </tr>\n",
              "    <tr>\n",
              "      <th>24</th>\n",
              "      <td>105.1</td>\n",
              "      <td>40.611111</td>\n",
              "      <td>06</td>\n",
              "      <td>27</td>\n",
              "      <td>LA</td>\n",
              "      <td>722480</td>\n",
              "      <td>SHREVEPORT REGIONAL AIRPORT</td>\n",
              "    </tr>\n",
              "    <tr>\n",
              "      <th>25</th>\n",
              "      <td>105.1</td>\n",
              "      <td>40.611111</td>\n",
              "      <td>06</td>\n",
              "      <td>24</td>\n",
              "      <td>AL</td>\n",
              "      <td>722275</td>\n",
              "      <td>ANDALUSIA-OPP MUNICIPAL AIRPO</td>\n",
              "    </tr>\n",
              "    <tr>\n",
              "      <th>26</th>\n",
              "      <td>104.0</td>\n",
              "      <td>40.000000</td>\n",
              "      <td>09</td>\n",
              "      <td>20</td>\n",
              "      <td>KY</td>\n",
              "      <td>724235</td>\n",
              "      <td>BOWMAN FIELD AIRPORT</td>\n",
              "    </tr>\n",
              "    <tr>\n",
              "      <th>27</th>\n",
              "      <td>102.9</td>\n",
              "      <td>39.388889</td>\n",
              "      <td>07</td>\n",
              "      <td>06</td>\n",
              "      <td>TN</td>\n",
              "      <td>723340</td>\n",
              "      <td>MEMPHIS INTERNATIONAL AIRPORT</td>\n",
              "    </tr>\n",
              "    <tr>\n",
              "      <th>28</th>\n",
              "      <td>102.9</td>\n",
              "      <td>39.388889</td>\n",
              "      <td>08</td>\n",
              "      <td>04</td>\n",
              "      <td>ND</td>\n",
              "      <td>727640</td>\n",
              "      <td>BISMARCK MUNICIPAL AIRPORT</td>\n",
              "    </tr>\n",
              "    <tr>\n",
              "      <th>29</th>\n",
              "      <td>102.9</td>\n",
              "      <td>39.388889</td>\n",
              "      <td>06</td>\n",
              "      <td>13</td>\n",
              "      <td>SC</td>\n",
              "      <td>723100</td>\n",
              "      <td>COLUMBIA METROPOLITAN AIRPORT</td>\n",
              "    </tr>\n",
              "    <tr>\n",
              "      <th>30</th>\n",
              "      <td>102.2</td>\n",
              "      <td>39.000000</td>\n",
              "      <td>07</td>\n",
              "      <td>24</td>\n",
              "      <td>MD</td>\n",
              "      <td>720699</td>\n",
              "      <td>CARROLL CO RGNL/JJACK B POAGE</td>\n",
              "    </tr>\n",
              "    <tr>\n",
              "      <th>31</th>\n",
              "      <td>102.2</td>\n",
              "      <td>39.000000</td>\n",
              "      <td>06</td>\n",
              "      <td>19</td>\n",
              "      <td>MN</td>\n",
              "      <td>727466</td>\n",
              "      <td>MDSON-LAC QUI PARLE CO APT</td>\n",
              "    </tr>\n",
              "    <tr>\n",
              "      <th>32</th>\n",
              "      <td>102.2</td>\n",
              "      <td>39.000000</td>\n",
              "      <td>06</td>\n",
              "      <td>20</td>\n",
              "      <td>WI</td>\n",
              "      <td>726418</td>\n",
              "      <td>L.O. SIMENSTAD MUNICIPAL AIRP</td>\n",
              "    </tr>\n",
              "    <tr>\n",
              "      <th>33</th>\n",
              "      <td>102.2</td>\n",
              "      <td>39.000000</td>\n",
              "      <td>07</td>\n",
              "      <td>28</td>\n",
              "      <td>NC</td>\n",
              "      <td>723193</td>\n",
              "      <td>SMITH REYNOLDS AIRPORT</td>\n",
              "    </tr>\n",
              "    <tr>\n",
              "      <th>34</th>\n",
              "      <td>102.0</td>\n",
              "      <td>38.888889</td>\n",
              "      <td>08</td>\n",
              "      <td>27</td>\n",
              "      <td>HI</td>\n",
              "      <td>911975</td>\n",
              "      <td>KONA INTL AT KEAHOLE ARPT</td>\n",
              "    </tr>\n",
              "    <tr>\n",
              "      <th>35</th>\n",
              "      <td>102.0</td>\n",
              "      <td>38.888889</td>\n",
              "      <td>07</td>\n",
              "      <td>24</td>\n",
              "      <td>NJ</td>\n",
              "      <td>725020</td>\n",
              "      <td>NEWARK LIBERTY INTERNATIONAL</td>\n",
              "    </tr>\n",
              "    <tr>\n",
              "      <th>36</th>\n",
              "      <td>100.9</td>\n",
              "      <td>38.277778</td>\n",
              "      <td>07</td>\n",
              "      <td>06</td>\n",
              "      <td>IN</td>\n",
              "      <td>724373</td>\n",
              "      <td>TER HUTE INTL-HULMAN FD AP</td>\n",
              "    </tr>\n",
              "    <tr>\n",
              "      <th>37</th>\n",
              "      <td>100.9</td>\n",
              "      <td>38.277778</td>\n",
              "      <td>07</td>\n",
              "      <td>24</td>\n",
              "      <td>PA</td>\n",
              "      <td>997286</td>\n",
              "      <td>PHILADELPHIA</td>\n",
              "    </tr>\n",
              "    <tr>\n",
              "      <th>38</th>\n",
              "      <td>100.9</td>\n",
              "      <td>38.277778</td>\n",
              "      <td>06</td>\n",
              "      <td>21</td>\n",
              "      <td>IL</td>\n",
              "      <td>725340</td>\n",
              "      <td>CHICAGO MIDWAY INTL ARPT</td>\n",
              "    </tr>\n",
              "    <tr>\n",
              "      <th>39</th>\n",
              "      <td>100.0</td>\n",
              "      <td>37.777778</td>\n",
              "      <td>06</td>\n",
              "      <td>21</td>\n",
              "      <td>OH</td>\n",
              "      <td>725360</td>\n",
              "      <td>TOLEDO EXPRESS AIRPORT</td>\n",
              "    </tr>\n",
              "    <tr>\n",
              "      <th>40</th>\n",
              "      <td>100.0</td>\n",
              "      <td>37.777778</td>\n",
              "      <td>07</td>\n",
              "      <td>25</td>\n",
              "      <td>MA</td>\n",
              "      <td>725090</td>\n",
              "      <td>GEN E L LOGAN INTERNATIONAL A</td>\n",
              "    </tr>\n",
              "    <tr>\n",
              "      <th>41</th>\n",
              "      <td>100.0</td>\n",
              "      <td>37.777778</td>\n",
              "      <td>08</td>\n",
              "      <td>05</td>\n",
              "      <td>NH</td>\n",
              "      <td>726056</td>\n",
              "      <td>SKYHAVEN AIRPORT</td>\n",
              "    </tr>\n",
              "    <tr>\n",
              "      <th>42</th>\n",
              "      <td>99.0</td>\n",
              "      <td>37.222222</td>\n",
              "      <td>08</td>\n",
              "      <td>09</td>\n",
              "      <td>CT</td>\n",
              "      <td>725087</td>\n",
              "      <td>HARTFORD-BRAINARD AIRPORT</td>\n",
              "    </tr>\n",
              "    <tr>\n",
              "      <th>43</th>\n",
              "      <td>99.0</td>\n",
              "      <td>37.222222</td>\n",
              "      <td>08</td>\n",
              "      <td>03</td>\n",
              "      <td>MI</td>\n",
              "      <td>725376</td>\n",
              "      <td>WILLOW RUN AIRPORT</td>\n",
              "    </tr>\n",
              "    <tr>\n",
              "      <th>44</th>\n",
              "      <td>99.0</td>\n",
              "      <td>37.222222</td>\n",
              "      <td>08</td>\n",
              "      <td>04</td>\n",
              "      <td>NY</td>\n",
              "      <td>725180</td>\n",
              "      <td>ALBANY INTERNATIONAL AIRPORT</td>\n",
              "    </tr>\n",
              "    <tr>\n",
              "      <th>45</th>\n",
              "      <td>98.1</td>\n",
              "      <td>36.722222</td>\n",
              "      <td>07</td>\n",
              "      <td>24</td>\n",
              "      <td>RI</td>\n",
              "      <td>725070</td>\n",
              "      <td>THEODORE F GREEN STATE AIRPOR</td>\n",
              "    </tr>\n",
              "    <tr>\n",
              "      <th>46</th>\n",
              "      <td>97.2</td>\n",
              "      <td>36.222222</td>\n",
              "      <td>08</td>\n",
              "      <td>04</td>\n",
              "      <td>DE</td>\n",
              "      <td>724088</td>\n",
              "      <td>DOVER AFB AIRPORT</td>\n",
              "    </tr>\n",
              "    <tr>\n",
              "      <th>47</th>\n",
              "      <td>96.1</td>\n",
              "      <td>35.611111</td>\n",
              "      <td>06</td>\n",
              "      <td>15</td>\n",
              "      <td>WV</td>\n",
              "      <td>724175</td>\n",
              "      <td>HARRISON/MARION RGNL ARPT</td>\n",
              "    </tr>\n",
              "    <tr>\n",
              "      <th>48</th>\n",
              "      <td>95.7</td>\n",
              "      <td>35.388889</td>\n",
              "      <td>06</td>\n",
              "      <td>17</td>\n",
              "      <td>DC</td>\n",
              "      <td>997314</td>\n",
              "      <td>WASHINGTON</td>\n",
              "    </tr>\n",
              "    <tr>\n",
              "      <th>49</th>\n",
              "      <td>95.0</td>\n",
              "      <td>35.000000</td>\n",
              "      <td>09</td>\n",
              "      <td>01</td>\n",
              "      <td>VI</td>\n",
              "      <td>785510</td>\n",
              "      <td>HENRY E ROHLSEN AIRPORT</td>\n",
              "    </tr>\n",
              "    <tr>\n",
              "      <th>50</th>\n",
              "      <td>95.0</td>\n",
              "      <td>35.000000</td>\n",
              "      <td>07</td>\n",
              "      <td>24</td>\n",
              "      <td>VT</td>\n",
              "      <td>726115</td>\n",
              "      <td>HARTNESS ST (SPNGFLD) ARPT</td>\n",
              "    </tr>\n",
              "    <tr>\n",
              "      <th>51</th>\n",
              "      <td>93.9</td>\n",
              "      <td>34.388889</td>\n",
              "      <td>06</td>\n",
              "      <td>05</td>\n",
              "      <td>PR</td>\n",
              "      <td>785260</td>\n",
              "      <td>LUIS MUNOZ MARIN INTERNATIONA</td>\n",
              "    </tr>\n",
              "    <tr>\n",
              "      <th>52</th>\n",
              "      <td>88.0</td>\n",
              "      <td>31.111111</td>\n",
              "      <td>06</td>\n",
              "      <td>20</td>\n",
              "      <td>AK</td>\n",
              "      <td>702006</td>\n",
              "      <td>KALTAG AIRPORT</td>\n",
              "    </tr>\n",
              "  </tbody>\n",
              "</table>\n",
              "</div>\n",
              "      <button class=\"colab-df-convert\" onclick=\"convertToInteractive('df-02e2a025-5586-4af1-bd00-6d430daa3d70')\"\n",
              "              title=\"Convert this dataframe to an interactive table.\"\n",
              "              style=\"display:none;\">\n",
              "        \n",
              "  <svg xmlns=\"http://www.w3.org/2000/svg\" height=\"24px\"viewBox=\"0 0 24 24\"\n",
              "       width=\"24px\">\n",
              "    <path d=\"M0 0h24v24H0V0z\" fill=\"none\"/>\n",
              "    <path d=\"M18.56 5.44l.94 2.06.94-2.06 2.06-.94-2.06-.94-.94-2.06-.94 2.06-2.06.94zm-11 1L8.5 8.5l.94-2.06 2.06-.94-2.06-.94L8.5 2.5l-.94 2.06-2.06.94zm10 10l.94 2.06.94-2.06 2.06-.94-2.06-.94-.94-2.06-.94 2.06-2.06.94z\"/><path d=\"M17.41 7.96l-1.37-1.37c-.4-.4-.92-.59-1.43-.59-.52 0-1.04.2-1.43.59L10.3 9.45l-7.72 7.72c-.78.78-.78 2.05 0 2.83L4 21.41c.39.39.9.59 1.41.59.51 0 1.02-.2 1.41-.59l7.78-7.78 2.81-2.81c.8-.78.8-2.07 0-2.86zM5.41 20L4 18.59l7.72-7.72 1.47 1.35L5.41 20z\"/>\n",
              "  </svg>\n",
              "      </button>\n",
              "      \n",
              "  <style>\n",
              "    .colab-df-container {\n",
              "      display:flex;\n",
              "      flex-wrap:wrap;\n",
              "      gap: 12px;\n",
              "    }\n",
              "\n",
              "    .colab-df-convert {\n",
              "      background-color: #E8F0FE;\n",
              "      border: none;\n",
              "      border-radius: 50%;\n",
              "      cursor: pointer;\n",
              "      display: none;\n",
              "      fill: #1967D2;\n",
              "      height: 32px;\n",
              "      padding: 0 0 0 0;\n",
              "      width: 32px;\n",
              "    }\n",
              "\n",
              "    .colab-df-convert:hover {\n",
              "      background-color: #E2EBFA;\n",
              "      box-shadow: 0px 1px 2px rgba(60, 64, 67, 0.3), 0px 1px 3px 1px rgba(60, 64, 67, 0.15);\n",
              "      fill: #174EA6;\n",
              "    }\n",
              "\n",
              "    [theme=dark] .colab-df-convert {\n",
              "      background-color: #3B4455;\n",
              "      fill: #D2E3FC;\n",
              "    }\n",
              "\n",
              "    [theme=dark] .colab-df-convert:hover {\n",
              "      background-color: #434B5C;\n",
              "      box-shadow: 0px 1px 3px 1px rgba(0, 0, 0, 0.15);\n",
              "      filter: drop-shadow(0px 1px 2px rgba(0, 0, 0, 0.3));\n",
              "      fill: #FFFFFF;\n",
              "    }\n",
              "  </style>\n",
              "\n",
              "      <script>\n",
              "        const buttonEl =\n",
              "          document.querySelector('#df-02e2a025-5586-4af1-bd00-6d430daa3d70 button.colab-df-convert');\n",
              "        buttonEl.style.display =\n",
              "          google.colab.kernel.accessAllowed ? 'block' : 'none';\n",
              "\n",
              "        async function convertToInteractive(key) {\n",
              "          const element = document.querySelector('#df-02e2a025-5586-4af1-bd00-6d430daa3d70');\n",
              "          const dataTable =\n",
              "            await google.colab.kernel.invokeFunction('convertToInteractive',\n",
              "                                                     [key], {});\n",
              "          if (!dataTable) return;\n",
              "\n",
              "          const docLinkHtml = 'Like what you see? Visit the ' +\n",
              "            '<a target=\"_blank\" href=https://colab.research.google.com/notebooks/data_table.ipynb>data table notebook</a>'\n",
              "            + ' to learn more about interactive tables.';\n",
              "          element.innerHTML = '';\n",
              "          dataTable['output_type'] = 'display_data';\n",
              "          await google.colab.output.renderOutput(dataTable, element);\n",
              "          const docLink = document.createElement('div');\n",
              "          docLink.innerHTML = docLinkHtml;\n",
              "          element.appendChild(docLink);\n",
              "        }\n",
              "      </script>\n",
              "    </div>\n",
              "  </div>\n",
              "  "
            ],
            "application/vnd.google.colaboratory.module+javascript": "\n      import \"https://ssl.gstatic.com/colaboratory/data_table/a8bd4d5e58f96183/data_table.js\";\n\n      window.createDataTable({\n        data: [[{\n            'v': 0,\n            'f': \"0\",\n        },\n{\n            'v': 132.8,\n            'f': \"132.8\",\n        },\n{\n            'v': 56.00000000000001,\n            'f': \"56.00000000000001\",\n        },\n\"06\",\n\"26\",\n\"ME\",\n\"720472\",\n\"STEVEN A BEAN MUNI\"],\n [{\n            'v': 1,\n            'f': \"1\",\n        },\n{\n            'v': 129.0,\n            'f': \"129.0\",\n        },\n{\n            'v': 53.888888888888886,\n            'f': \"53.888888888888886\",\n        },\n\"08\",\n\"07\",\n\"TX\",\n\"722595\",\n\"FORT WORTH NAVAL AIR STATION\"],\n [{\n            'v': 2,\n            'f': \"2\",\n        },\n{\n            'v': 126.0,\n            'f': \"126.0\",\n        },\n{\n            'v': 52.22222222222222,\n            'f': \"52.22222222222222\",\n        },\n\"07\",\n\"30\",\n\"VA\",\n\"724035\",\n\"QUANTICO MCAF\"],\n [{\n            'v': 3,\n            'f': \"3\",\n        },\n{\n            'v': 124.7,\n            'f': \"124.7\",\n        },\n{\n            'v': 51.5,\n            'f': \"51.5\",\n        },\n\"05\",\n\"05\",\n\"WY\",\n\"720977\",\n\"ALPHA (BURNS)                \"],\n [{\n            'v': 4,\n            'f': \"4\",\n        },\n{\n            'v': 122.4,\n            'f': \"122.4\",\n        },\n{\n            'v': 50.22222222222222,\n            'f': \"50.22222222222222\",\n        },\n\"07\",\n\"12\",\n\"CA\",\n\"999999\",\n\"STOVEPIPE WELLS 1 SW         \"],\n [{\n            'v': 5,\n            'f': \"5\",\n        },\n{\n            'v': 116.8,\n            'f': \"116.8\",\n        },\n{\n            'v': 47.111111111111114,\n            'f': \"47.111111111111114\",\n        },\n\"07\",\n\"21\",\n\"NV\",\n\"746140\",\n\"NELLIS AFB AIRPORT\"],\n [{\n            'v': 6,\n            'f': \"6\",\n        },\n{\n            'v': 116.6,\n            'f': \"116.6\",\n        },\n{\n            'v': 47.0,\n            'f': \"47.0\",\n        },\n\"07\",\n\"17\",\n\"AZ\",\n\"723788\",\n\"LAUGHLIN/BULLHEAD INTERNATION\"],\n [{\n            'v': 7,\n            'f': \"7\",\n        },\n{\n            'v': 115.0,\n            'f': \"115.0\",\n        },\n{\n            'v': 46.111111111111114,\n            'f': \"46.111111111111114\",\n        },\n\"07\",\n\"19\",\n\"OK\",\n\"723525\",\n\"HOBART MUNICIPAL AIRPORT\"],\n [{\n            'v': 8,\n            'f': \"8\",\n        },\n{\n            'v': 114.8,\n            'f': \"114.8\",\n        },\n{\n            'v': 46.0,\n            'f': \"46.0\",\n        },\n\"08\",\n\"01\",\n\"MS\",\n\"720769\",\n\"GEORGE M BRYAN AIRPORT\"],\n [{\n            'v': 9,\n            'f': \"9\",\n        },\n{\n            'v': 114.1,\n            'f': \"114.1\",\n        },\n{\n            'v': 45.611111111111114,\n            'f': \"45.611111111111114\",\n        },\n\"07\",\n\"29\",\n\"OR\",\n\"725970\",\n\"ROGUE VALLEY INTL-MEDFORD AIR\"],\n [{\n            'v': 10,\n            'f': \"10\",\n        },\n{\n            'v': 111.9,\n            'f': \"111.9\",\n        },\n{\n            'v': 44.388888888888886,\n            'f': \"44.388888888888886\",\n        },\n\"06\",\n\"12\",\n\"NM\",\n\"723676\",\n\"TUCUMCARI MUNICIPAL ARPT\"],\n [{\n            'v': 11,\n            'f': \"11\",\n        },\n{\n            'v': 111.9,\n            'f': \"111.9\",\n        },\n{\n            'v': 44.388888888888886,\n            'f': \"44.388888888888886\",\n        },\n\"07\",\n\"30\",\n\"WA\",\n\"727845\",\n\"TRI-CITIES AIRPORT\"],\n [{\n            'v': 12,\n            'f': \"12\",\n        },\n{\n            'v': 111.9,\n            'f': \"111.9\",\n        },\n{\n            'v': 44.388888888888886,\n            'f': \"44.388888888888886\",\n        },\n\"07\",\n\"19\",\n\"KS\",\n\"724520\",\n\"MEDICINE LODGE\"],\n [{\n            'v': 13,\n            'f': \"13\",\n        },\n{\n            'v': 111.0,\n            'f': \"111.0\",\n        },\n{\n            'v': 43.888888888888886,\n            'f': \"43.888888888888886\",\n        },\n\"08\",\n\"02\",\n\"SD\",\n\"726518\",\n\"WINNER REGIONAL AIRPORT\"],\n [{\n            'v': 14,\n            'f': \"14\",\n        },\n{\n            'v': 111.0,\n            'f': \"111.0\",\n        },\n{\n            'v': 43.888888888888886,\n            'f': \"43.888888888888886\",\n        },\n\"07\",\n\"19\",\n\"NE\",\n\"725636\",\n\"CHADRON MUNICIPAL AIRPORT\"],\n [{\n            'v': 15,\n            'f': \"15\",\n        },\n{\n            'v': 111.0,\n            'f': \"111.0\",\n        },\n{\n            'v': 43.888888888888886,\n            'f': \"43.888888888888886\",\n        },\n\"09\",\n\"06\",\n\"UT\",\n\"724754\",\n\"ST GEORGE MUNICIPAL ARPT\"],\n [{\n            'v': 16,\n            'f': \"16\",\n        },\n{\n            'v': 109.9,\n            'f': \"109.9\",\n        },\n{\n            'v': 43.27777777777778,\n            'f': \"43.27777777777778\",\n        },\n\"07\",\n\"23\",\n\"CO\",\n\"724636\",\n\"LAMAR MUNICIPAL AIRPORT\"],\n [{\n            'v': 17,\n            'f': \"17\",\n        },\n{\n            'v': 109.4,\n            'f': \"109.4\",\n        },\n{\n            'v': 43.0,\n            'f': \"43.0\",\n        },\n\"07\",\n\"20\",\n\"GA\",\n\"720348\",\n\"BALDWIN COUNTY AIRPORT\"],\n [{\n            'v': 18,\n            'f': \"18\",\n        },\n{\n            'v': 109.0,\n            'f': \"109.0\",\n        },\n{\n            'v': 42.77777777777778,\n            'f': \"42.77777777777778\",\n        },\n\"09\",\n\"20\",\n\"FL\",\n\"747931\",\n\"WINTER HAVEN'S GILBERT APT\"],\n [{\n            'v': 19,\n            'f': \"19\",\n        },\n{\n            'v': 108.0,\n            'f': \"108.0\",\n        },\n{\n            'v': 42.22222222222222,\n            'f': \"42.22222222222222\",\n        },\n\"07\",\n\"29\",\n\"ID\",\n\"725784\",\n\"ELK CITY\"],\n [{\n            'v': 20,\n            'f': \"20\",\n        },\n{\n            'v': 108.0,\n            'f': \"108.0\",\n        },\n{\n            'v': 42.22222222222222,\n            'f': \"42.22222222222222\",\n        },\n\"07\",\n\"20\",\n\"AR\",\n\"723440\",\n\"FORT SMITH REGIONAL AIRPORT\"],\n [{\n            'v': 21,\n            'f': \"21\",\n        },\n{\n            'v': 108.0,\n            'f': \"108.0\",\n        },\n{\n            'v': 42.22222222222222,\n            'f': \"42.22222222222222\",\n        },\n\"07\",\n\"17\",\n\"MT\",\n\"727680\",\n\"WOKAL FIELD/GLASGOW INTL AIRP\"],\n [{\n            'v': 22,\n            'f': \"22\",\n        },\n{\n            'v': 107.6,\n            'f': \"107.6\",\n        },\n{\n            'v': 42.0,\n            'f': \"42.0\",\n        },\n\"07\",\n\"05\",\n\"IA\",\n\"725484\",\n\"LE MARS MUNICIPAL AIRPORT\"],\n [{\n            'v': 23,\n            'f': \"23\",\n        },\n{\n            'v': 107.1,\n            'f': \"107.1\",\n        },\n{\n            'v': 41.72222222222222,\n            'f': \"41.72222222222222\",\n        },\n\"07\",\n\"26\",\n\"MO\",\n\"723495\",\n\"JOPLIN REGIONAL AIRPORT\"],\n [{\n            'v': 24,\n            'f': \"24\",\n        },\n{\n            'v': 105.1,\n            'f': \"105.1\",\n        },\n{\n            'v': 40.611111111111114,\n            'f': \"40.611111111111114\",\n        },\n\"06\",\n\"27\",\n\"LA\",\n\"722480\",\n\"SHREVEPORT REGIONAL AIRPORT\"],\n [{\n            'v': 25,\n            'f': \"25\",\n        },\n{\n            'v': 105.1,\n            'f': \"105.1\",\n        },\n{\n            'v': 40.611111111111114,\n            'f': \"40.611111111111114\",\n        },\n\"06\",\n\"24\",\n\"AL\",\n\"722275\",\n\"ANDALUSIA-OPP MUNICIPAL AIRPO\"],\n [{\n            'v': 26,\n            'f': \"26\",\n        },\n{\n            'v': 104.0,\n            'f': \"104.0\",\n        },\n{\n            'v': 40.0,\n            'f': \"40.0\",\n        },\n\"09\",\n\"20\",\n\"KY\",\n\"724235\",\n\"BOWMAN FIELD AIRPORT\"],\n [{\n            'v': 27,\n            'f': \"27\",\n        },\n{\n            'v': 102.9,\n            'f': \"102.9\",\n        },\n{\n            'v': 39.388888888888886,\n            'f': \"39.388888888888886\",\n        },\n\"07\",\n\"06\",\n\"TN\",\n\"723340\",\n\"MEMPHIS INTERNATIONAL AIRPORT\"],\n [{\n            'v': 28,\n            'f': \"28\",\n        },\n{\n            'v': 102.9,\n            'f': \"102.9\",\n        },\n{\n            'v': 39.388888888888886,\n            'f': \"39.388888888888886\",\n        },\n\"08\",\n\"04\",\n\"ND\",\n\"727640\",\n\"BISMARCK MUNICIPAL AIRPORT\"],\n [{\n            'v': 29,\n            'f': \"29\",\n        },\n{\n            'v': 102.9,\n            'f': \"102.9\",\n        },\n{\n            'v': 39.388888888888886,\n            'f': \"39.388888888888886\",\n        },\n\"06\",\n\"13\",\n\"SC\",\n\"723100\",\n\"COLUMBIA METROPOLITAN AIRPORT\"],\n [{\n            'v': 30,\n            'f': \"30\",\n        },\n{\n            'v': 102.2,\n            'f': \"102.2\",\n        },\n{\n            'v': 39.0,\n            'f': \"39.0\",\n        },\n\"07\",\n\"24\",\n\"MD\",\n\"720699\",\n\"CARROLL CO RGNL/JJACK B POAGE\"],\n [{\n            'v': 31,\n            'f': \"31\",\n        },\n{\n            'v': 102.2,\n            'f': \"102.2\",\n        },\n{\n            'v': 39.0,\n            'f': \"39.0\",\n        },\n\"06\",\n\"19\",\n\"MN\",\n\"727466\",\n\"MDSON-LAC QUI PARLE CO APT\"],\n [{\n            'v': 32,\n            'f': \"32\",\n        },\n{\n            'v': 102.2,\n            'f': \"102.2\",\n        },\n{\n            'v': 39.0,\n            'f': \"39.0\",\n        },\n\"06\",\n\"20\",\n\"WI\",\n\"726418\",\n\"L.O. SIMENSTAD MUNICIPAL AIRP\"],\n [{\n            'v': 33,\n            'f': \"33\",\n        },\n{\n            'v': 102.2,\n            'f': \"102.2\",\n        },\n{\n            'v': 39.0,\n            'f': \"39.0\",\n        },\n\"07\",\n\"28\",\n\"NC\",\n\"723193\",\n\"SMITH REYNOLDS AIRPORT\"],\n [{\n            'v': 34,\n            'f': \"34\",\n        },\n{\n            'v': 102.0,\n            'f': \"102.0\",\n        },\n{\n            'v': 38.888888888888886,\n            'f': \"38.888888888888886\",\n        },\n\"08\",\n\"27\",\n\"HI\",\n\"911975\",\n\"KONA INTL AT KEAHOLE ARPT\"],\n [{\n            'v': 35,\n            'f': \"35\",\n        },\n{\n            'v': 102.0,\n            'f': \"102.0\",\n        },\n{\n            'v': 38.888888888888886,\n            'f': \"38.888888888888886\",\n        },\n\"07\",\n\"24\",\n\"NJ\",\n\"725020\",\n\"NEWARK LIBERTY INTERNATIONAL\"],\n [{\n            'v': 36,\n            'f': \"36\",\n        },\n{\n            'v': 100.9,\n            'f': \"100.9\",\n        },\n{\n            'v': 38.27777777777778,\n            'f': \"38.27777777777778\",\n        },\n\"07\",\n\"06\",\n\"IN\",\n\"724373\",\n\"TER HUTE INTL-HULMAN FD AP\"],\n [{\n            'v': 37,\n            'f': \"37\",\n        },\n{\n            'v': 100.9,\n            'f': \"100.9\",\n        },\n{\n            'v': 38.27777777777778,\n            'f': \"38.27777777777778\",\n        },\n\"07\",\n\"24\",\n\"PA\",\n\"997286\",\n\"PHILADELPHIA\"],\n [{\n            'v': 38,\n            'f': \"38\",\n        },\n{\n            'v': 100.9,\n            'f': \"100.9\",\n        },\n{\n            'v': 38.27777777777778,\n            'f': \"38.27777777777778\",\n        },\n\"06\",\n\"21\",\n\"IL\",\n\"725340\",\n\"CHICAGO MIDWAY INTL ARPT\"],\n [{\n            'v': 39,\n            'f': \"39\",\n        },\n{\n            'v': 100.0,\n            'f': \"100.0\",\n        },\n{\n            'v': 37.77777777777778,\n            'f': \"37.77777777777778\",\n        },\n\"06\",\n\"21\",\n\"OH\",\n\"725360\",\n\"TOLEDO EXPRESS AIRPORT\"],\n [{\n            'v': 40,\n            'f': \"40\",\n        },\n{\n            'v': 100.0,\n            'f': \"100.0\",\n        },\n{\n            'v': 37.77777777777778,\n            'f': \"37.77777777777778\",\n        },\n\"07\",\n\"25\",\n\"MA\",\n\"725090\",\n\"GEN E L LOGAN INTERNATIONAL A\"],\n [{\n            'v': 41,\n            'f': \"41\",\n        },\n{\n            'v': 100.0,\n            'f': \"100.0\",\n        },\n{\n            'v': 37.77777777777778,\n            'f': \"37.77777777777778\",\n        },\n\"08\",\n\"05\",\n\"NH\",\n\"726056\",\n\"SKYHAVEN AIRPORT\"],\n [{\n            'v': 42,\n            'f': \"42\",\n        },\n{\n            'v': 99.0,\n            'f': \"99.0\",\n        },\n{\n            'v': 37.22222222222222,\n            'f': \"37.22222222222222\",\n        },\n\"08\",\n\"09\",\n\"CT\",\n\"725087\",\n\"HARTFORD-BRAINARD AIRPORT\"],\n [{\n            'v': 43,\n            'f': \"43\",\n        },\n{\n            'v': 99.0,\n            'f': \"99.0\",\n        },\n{\n            'v': 37.22222222222222,\n            'f': \"37.22222222222222\",\n        },\n\"08\",\n\"03\",\n\"MI\",\n\"725376\",\n\"WILLOW RUN AIRPORT\"],\n [{\n            'v': 44,\n            'f': \"44\",\n        },\n{\n            'v': 99.0,\n            'f': \"99.0\",\n        },\n{\n            'v': 37.22222222222222,\n            'f': \"37.22222222222222\",\n        },\n\"08\",\n\"04\",\n\"NY\",\n\"725180\",\n\"ALBANY INTERNATIONAL AIRPORT\"],\n [{\n            'v': 45,\n            'f': \"45\",\n        },\n{\n            'v': 98.1,\n            'f': \"98.1\",\n        },\n{\n            'v': 36.72222222222222,\n            'f': \"36.72222222222222\",\n        },\n\"07\",\n\"24\",\n\"RI\",\n\"725070\",\n\"THEODORE F GREEN STATE AIRPOR\"],\n [{\n            'v': 46,\n            'f': \"46\",\n        },\n{\n            'v': 97.2,\n            'f': \"97.2\",\n        },\n{\n            'v': 36.22222222222222,\n            'f': \"36.22222222222222\",\n        },\n\"08\",\n\"04\",\n\"DE\",\n\"724088\",\n\"DOVER AFB AIRPORT\"],\n [{\n            'v': 47,\n            'f': \"47\",\n        },\n{\n            'v': 96.1,\n            'f': \"96.1\",\n        },\n{\n            'v': 35.611111111111114,\n            'f': \"35.611111111111114\",\n        },\n\"06\",\n\"15\",\n\"WV\",\n\"724175\",\n\"HARRISON/MARION RGNL ARPT\"],\n [{\n            'v': 48,\n            'f': \"48\",\n        },\n{\n            'v': 95.7,\n            'f': \"95.7\",\n        },\n{\n            'v': 35.388888888888886,\n            'f': \"35.388888888888886\",\n        },\n\"06\",\n\"17\",\n\"DC\",\n\"997314\",\n\"WASHINGTON\"],\n [{\n            'v': 49,\n            'f': \"49\",\n        },\n{\n            'v': 95.0,\n            'f': \"95.0\",\n        },\n{\n            'v': 35.0,\n            'f': \"35.0\",\n        },\n\"09\",\n\"01\",\n\"VI\",\n\"785510\",\n\"HENRY E ROHLSEN AIRPORT\"],\n [{\n            'v': 50,\n            'f': \"50\",\n        },\n{\n            'v': 95.0,\n            'f': \"95.0\",\n        },\n{\n            'v': 35.0,\n            'f': \"35.0\",\n        },\n\"07\",\n\"24\",\n\"VT\",\n\"726115\",\n\"HARTNESS ST (SPNGFLD) ARPT\"],\n [{\n            'v': 51,\n            'f': \"51\",\n        },\n{\n            'v': 93.9,\n            'f': \"93.9\",\n        },\n{\n            'v': 34.388888888888886,\n            'f': \"34.388888888888886\",\n        },\n\"06\",\n\"05\",\n\"PR\",\n\"785260\",\n\"LUIS MUNOZ MARIN INTERNATIONA\"],\n [{\n            'v': 52,\n            'f': \"52\",\n        },\n{\n            'v': 88.0,\n            'f': \"88.0\",\n        },\n{\n            'v': 31.11111111111111,\n            'f': \"31.11111111111111\",\n        },\n\"06\",\n\"20\",\n\"AK\",\n\"702006\",\n\"KALTAG AIRPORT\"]],\n        columns: [[\"number\", \"index\"], [\"number\", \"max\"], [\"number\", \"celsius\"], [\"string\", \"mo\"], [\"string\", \"da\"], [\"string\", \"state\"], [\"string\", \"stn\"], [\"string\", \"name\"]],\n        columnOptions: [{\"width\": \"1px\", \"className\": \"index_column\"}],\n        rowsPerPage: 25,\n        helpUrl: \"https://colab.research.google.com/notebooks/data_table.ipynb\",\n        suppressOutputScrolling: true,\n        minimumWidth: undefined,\n      });\n    "
          },
          "metadata": {},
          "execution_count": 17
        }
      ]
    },
    {
      "cell_type": "code",
      "source": [
        "df_cal['state'].unique()"
      ],
      "metadata": {
        "colab": {
          "base_uri": "https://localhost:8080/"
        },
        "id": "aZmPjjEGrzS1",
        "outputId": "ddd570b6-b920-4f1a-f625-1509cd152d2e"
      },
      "execution_count": 18,
      "outputs": [
        {
          "output_type": "execute_result",
          "data": {
            "text/plain": [
              "array(['ME', 'TX', 'VA', 'WY', 'CA', 'NV', 'AZ', 'OK', 'MS', 'OR', 'NM',\n",
              "       'WA', 'KS', 'SD', 'NE', 'UT', 'CO', 'GA', 'FL', 'ID', 'AR', 'MT',\n",
              "       'IA', 'MO', 'LA', 'AL', 'KY', 'TN', 'ND', 'SC', 'MD', 'MN', 'WI',\n",
              "       'NC', 'HI', 'NJ', 'IN', 'PA', 'IL', 'OH', 'MA', 'NH', 'CT', 'MI',\n",
              "       'NY', 'RI', 'DE', 'WV', 'DC', 'VI', 'VT', 'PR', 'AK'], dtype=object)"
            ]
          },
          "metadata": {},
          "execution_count": 18
        }
      ]
    },
    {
      "cell_type": "code",
      "source": [
        "# Data Reporting Frequency\n",
        "\n",
        "import numpy as np\n",
        "from matplotlib import pyplot as plt\n",
        "%matplotlib inline\n",
        "import numpy as np\n",
        "import matplotlib.pyplot as plt\n",
        "!pip install basemap\n",
        "!pip install basemap-data\n",
        "from mpl_toolkits.basemap import Basemap\n",
        "#plt.figure(figsize=(20,8))\n",
        "#plt.plot(df_cal['max'].unique(),df_cal['name'].value_counts())"
      ],
      "metadata": {
        "colab": {
          "base_uri": "https://localhost:8080/"
        },
        "id": "TB01oHSNsxoL",
        "outputId": "fc3840a6-732f-412a-caee-7427e5903719"
      },
      "execution_count": 19,
      "outputs": [
        {
          "output_type": "stream",
          "name": "stdout",
          "text": [
            "Looking in indexes: https://pypi.org/simple, https://us-python.pkg.dev/colab-wheels/public/simple/\n",
            "Requirement already satisfied: basemap in /usr/local/lib/python3.7/dist-packages (1.3.4)\n",
            "Requirement already satisfied: matplotlib<3.6,>=1.5 in /usr/local/lib/python3.7/dist-packages (from basemap) (3.2.2)\n",
            "Requirement already satisfied: pyproj<3.4.0,>=1.9.3 in /usr/local/lib/python3.7/dist-packages (from basemap) (3.2.1)\n",
            "Requirement already satisfied: basemap-data<1.4,>=1.3.2 in /usr/local/lib/python3.7/dist-packages (from basemap) (1.3.2)\n",
            "Requirement already satisfied: pyshp<2.4,>=1.2 in /usr/local/lib/python3.7/dist-packages (from basemap) (2.3.1)\n",
            "Requirement already satisfied: numpy<1.22,>=1.21 in /usr/local/lib/python3.7/dist-packages (from basemap) (1.21.6)\n",
            "Requirement already satisfied: pyparsing!=2.0.4,!=2.1.2,!=2.1.6,>=2.0.1 in /usr/local/lib/python3.7/dist-packages (from matplotlib<3.6,>=1.5->basemap) (3.0.9)\n",
            "Requirement already satisfied: cycler>=0.10 in /usr/local/lib/python3.7/dist-packages (from matplotlib<3.6,>=1.5->basemap) (0.11.0)\n",
            "Requirement already satisfied: python-dateutil>=2.1 in /usr/local/lib/python3.7/dist-packages (from matplotlib<3.6,>=1.5->basemap) (2.8.2)\n",
            "Requirement already satisfied: kiwisolver>=1.0.1 in /usr/local/lib/python3.7/dist-packages (from matplotlib<3.6,>=1.5->basemap) (1.4.4)\n",
            "Requirement already satisfied: typing-extensions in /usr/local/lib/python3.7/dist-packages (from kiwisolver>=1.0.1->matplotlib<3.6,>=1.5->basemap) (4.1.1)\n",
            "Requirement already satisfied: certifi in /usr/local/lib/python3.7/dist-packages (from pyproj<3.4.0,>=1.9.3->basemap) (2022.6.15)\n",
            "Requirement already satisfied: six>=1.5 in /usr/local/lib/python3.7/dist-packages (from python-dateutil>=2.1->matplotlib<3.6,>=1.5->basemap) (1.15.0)\n",
            "Looking in indexes: https://pypi.org/simple, https://us-python.pkg.dev/colab-wheels/public/simple/\n",
            "Requirement already satisfied: basemap-data in /usr/local/lib/python3.7/dist-packages (1.3.2)\n"
          ]
        }
      ]
    },
    {
      "cell_type": "code",
      "source": [
        "ax = df_cal.plot(kind='bar', x='name', y='celsius', figsize=(20,7))"
      ],
      "metadata": {
        "colab": {
          "base_uri": "https://localhost:8080/",
          "height": 611
        },
        "id": "05aEsIIrtYxA",
        "outputId": "a21c3e82-423c-4c2d-a74f-6e3d78e63856"
      },
      "execution_count": 20,
      "outputs": [
        {
          "output_type": "display_data",
          "data": {
            "text/plain": [
              "<Figure size 1440x504 with 1 Axes>"
            ],
            "image/png": "[encoded data removed]"
          },
          "metadata": {
            "needs_background": "light"
          }
        }
      ]
    },
    {
      "cell_type": "code",
      "source": [
        "import seaborn as sns\n",
        "sns.set_style('darkgrid')\n",
        "sns.distplot(df_scc.celsius)"
      ],
      "metadata": {
        "colab": {
          "base_uri": "https://localhost:8080/",
          "height": 351
        },
        "id": "x-Osowo4wO6k",
        "outputId": "3363c2fc-66d9-4912-a0ea-421bca814ce2"
      },
      "execution_count": 21,
      "outputs": [
        {
          "output_type": "stream",
          "name": "stderr",
          "text": [
            "/usr/local/lib/python3.7/dist-packages/seaborn/distributions.py:2619: FutureWarning: `distplot` is a deprecated function and will be removed in a future version. Please adapt your code to use either `displot` (a figure-level function with similar flexibility) or `histplot` (an axes-level function for histograms).\n",
            "  warnings.warn(msg, FutureWarning)\n"
          ]
        },
        {
          "output_type": "execute_result",
          "data": {
            "text/plain": [
              "<matplotlib.axes._subplots.AxesSubplot at 0x7f67c019fd50>"
            ]
          },
          "metadata": {},
          "execution_count": 21
        },
        {
          "output_type": "display_data",
          "data": {
            "text/plain": [
              "<Figure size 432x288 with 1 Axes>"
            ],
            "image/png": "[encoded data removed]"
          },
          "metadata": {}
        }
      ]
    },
    {
      "cell_type": "code",
      "source": [
        "! pip install dash   \n",
        "! pip install pandas\n",
        "! pip install dash-daq\n",
        "! pip install dash-html-components                                         \n",
        "! pip install dash-core-components                                     \n",
        "! !pip install plotly "
      ],
      "metadata": {
        "colab": {
          "base_uri": "https://localhost:8080/"
        },
        "id": "bS8Bl1U5p_RM",
        "outputId": "74aa9186-dc27-43d9-d65c-874551253e1e"
      },
      "execution_count": 25,
      "outputs": [
        {
          "output_type": "stream",
          "name": "stdout",
          "text": [
            "Looking in indexes: https://pypi.org/simple, https://us-python.pkg.dev/colab-wheels/public/simple/\n",
            "Requirement already satisfied: dash in /usr/local/lib/python3.7/dist-packages (2.6.2)\n",
            "Requirement already satisfied: Flask>=1.0.4 in /usr/local/lib/python3.7/dist-packages (from dash) (1.1.4)\n",
            "Requirement already satisfied: dash-html-components==2.0.0 in /usr/local/lib/python3.7/dist-packages (from dash) (2.0.0)\n",
            "Requirement already satisfied: dash-core-components==2.0.0 in /usr/local/lib/python3.7/dist-packages (from dash) (2.0.0)\n",
            "Requirement already satisfied: plotly>=5.0.0 in /usr/local/lib/python3.7/dist-packages (from dash) (5.5.0)\n",
            "Requirement already satisfied: dash-table==5.0.0 in /usr/local/lib/python3.7/dist-packages (from dash) (5.0.0)\n",
            "Requirement already satisfied: flask-compress in /usr/local/lib/python3.7/dist-packages (from dash) (1.13)\n",
            "Requirement already satisfied: Jinja2<3.0,>=2.10.1 in /usr/local/lib/python3.7/dist-packages (from Flask>=1.0.4->dash) (2.11.3)\n",
            "Requirement already satisfied: click<8.0,>=5.1 in /usr/local/lib/python3.7/dist-packages (from Flask>=1.0.4->dash) (7.1.2)\n",
            "Requirement already satisfied: Werkzeug<2.0,>=0.15 in /usr/local/lib/python3.7/dist-packages (from Flask>=1.0.4->dash) (1.0.1)\n",
            "Requirement already satisfied: itsdangerous<2.0,>=0.24 in /usr/local/lib/python3.7/dist-packages (from Flask>=1.0.4->dash) (1.1.0)\n",
            "Requirement already satisfied: MarkupSafe>=0.23 in /usr/local/lib/python3.7/dist-packages (from Jinja2<3.0,>=2.10.1->Flask>=1.0.4->dash) (2.0.1)\n",
            "Requirement already satisfied: six in /usr/local/lib/python3.7/dist-packages (from plotly>=5.0.0->dash) (1.15.0)\n",
            "Requirement already satisfied: tenacity>=6.2.0 in /usr/local/lib/python3.7/dist-packages (from plotly>=5.0.0->dash) (8.0.1)\n",
            "Requirement already satisfied: brotli in /usr/local/lib/python3.7/dist-packages (from flask-compress->dash) (1.0.9)\n",
            "Looking in indexes: https://pypi.org/simple, https://us-python.pkg.dev/colab-wheels/public/simple/\n",
            "Requirement already satisfied: pandas in /usr/local/lib/python3.7/dist-packages (1.3.5)\n",
            "Requirement already satisfied: numpy>=1.17.3 in /usr/local/lib/python3.7/dist-packages (from pandas) (1.21.6)\n",
            "Requirement already satisfied: python-dateutil>=2.7.3 in /usr/local/lib/python3.7/dist-packages (from pandas) (2.8.2)\n",
            "Requirement already satisfied: pytz>=2017.3 in /usr/local/lib/python3.7/dist-packages (from pandas) (2022.2.1)\n",
            "Requirement already satisfied: six>=1.5 in /usr/local/lib/python3.7/dist-packages (from python-dateutil>=2.7.3->pandas) (1.15.0)\n",
            "Looking in indexes: https://pypi.org/simple, https://us-python.pkg.dev/colab-wheels/public/simple/\n",
            "Collecting dash-daq\n",
            "  Downloading dash_daq-0.5.0.tar.gz (642 kB)\n",
            "\u001b[K     |████████████████████████████████| 642 kB 4.0 MB/s \n",
            "\u001b[?25hRequirement already satisfied: dash>=1.6.1 in /usr/local/lib/python3.7/dist-packages (from dash-daq) (2.6.2)\n",
            "Requirement already satisfied: Flask>=1.0.4 in /usr/local/lib/python3.7/dist-packages (from dash>=1.6.1->dash-daq) (1.1.4)\n",
            "Requirement already satisfied: flask-compress in /usr/local/lib/python3.7/dist-packages (from dash>=1.6.1->dash-daq) (1.13)\n",
            "Requirement already satisfied: dash-core-components==2.0.0 in /usr/local/lib/python3.7/dist-packages (from dash>=1.6.1->dash-daq) (2.0.0)\n",
            "Requirement already satisfied: plotly>=5.0.0 in /usr/local/lib/python3.7/dist-packages (from dash>=1.6.1->dash-daq) (5.5.0)\n",
            "Requirement already satisfied: dash-html-components==2.0.0 in /usr/local/lib/python3.7/dist-packages (from dash>=1.6.1->dash-daq) (2.0.0)\n",
            "Requirement already satisfied: dash-table==5.0.0 in /usr/local/lib/python3.7/dist-packages (from dash>=1.6.1->dash-daq) (5.0.0)\n",
            "Requirement already satisfied: click<8.0,>=5.1 in /usr/local/lib/python3.7/dist-packages (from Flask>=1.0.4->dash>=1.6.1->dash-daq) (7.1.2)\n",
            "Requirement already satisfied: itsdangerous<2.0,>=0.24 in /usr/local/lib/python3.7/dist-packages (from Flask>=1.0.4->dash>=1.6.1->dash-daq) (1.1.0)\n",
            "Requirement already satisfied: Jinja2<3.0,>=2.10.1 in /usr/local/lib/python3.7/dist-packages (from Flask>=1.0.4->dash>=1.6.1->dash-daq) (2.11.3)\n",
            "Requirement already satisfied: Werkzeug<2.0,>=0.15 in /usr/local/lib/python3.7/dist-packages (from Flask>=1.0.4->dash>=1.6.1->dash-daq) (1.0.1)\n",
            "Requirement already satisfied: MarkupSafe>=0.23 in /usr/local/lib/python3.7/dist-packages (from Jinja2<3.0,>=2.10.1->Flask>=1.0.4->dash>=1.6.1->dash-daq) (2.0.1)\n",
            "Requirement already satisfied: tenacity>=6.2.0 in /usr/local/lib/python3.7/dist-packages (from plotly>=5.0.0->dash>=1.6.1->dash-daq) (8.0.1)\n",
            "Requirement already satisfied: six in /usr/local/lib/python3.7/dist-packages (from plotly>=5.0.0->dash>=1.6.1->dash-daq) (1.15.0)\n",
            "Requirement already satisfied: brotli in /usr/local/lib/python3.7/dist-packages (from flask-compress->dash>=1.6.1->dash-daq) (1.0.9)\n",
            "Building wheels for collected packages: dash-daq\n",
            "  Building wheel for dash-daq (setup.py) ... \u001b[?25l\u001b[?25hdone\n",
            "  Created wheel for dash-daq: filename=dash_daq-0.5.0-py3-none-any.whl size=669714 sha256=ec47ff783757490385995bc83bd5571e65f44f21e7e06b1587001bf1a2411d37\n",
            "  Stored in directory: /root/.cache/pip/wheels/fe/54/53/a8d448db5592874db4313240571ca2c069e55f6a6b29bf5847\n",
            "Successfully built dash-daq\n",
            "Installing collected packages: dash-daq\n",
            "Successfully installed dash-daq-0.5.0\n",
            "Looking in indexes: https://pypi.org/simple, https://us-python.pkg.dev/colab-wheels/public/simple/\n",
            "Requirement already satisfied: dash-html-components in /usr/local/lib/python3.7/dist-packages (2.0.0)\n",
            "Looking in indexes: https://pypi.org/simple, https://us-python.pkg.dev/colab-wheels/public/simple/\n",
            "Requirement already satisfied: dash-core-components in /usr/local/lib/python3.7/dist-packages (2.0.0)\n",
            "/bin/bash: !pip: command not found\n"
          ]
        }
      ]
    },
    {
      "cell_type": "code",
      "source": [
        "import pandas as pd\n",
        "import plotly.express as px\n",
        "df = pd.read_csv('/content/sample_data/data.csv')\n",
        "df.head()\n"
      ],
      "metadata": {
        "colab": {
          "base_uri": "https://localhost:8080/",
          "height": 198
        },
        "id": "UmCbQ1JKF2X1",
        "outputId": "e8227ab5-f5e9-48c6-ee88-45cd66d80ca2"
      },
      "execution_count": 28,
      "outputs": [
        {
          "output_type": "execute_result",
          "data": {
            "text/plain": [
              "     max    celsius  mo  da state     stn                          name\n",
              "0  132.8  56.000000   6  26    ME  720472            STEVEN A BEAN MUNI\n",
              "1  129.0  53.888889   8   7    TX  722595  FORT WORTH NAVAL AIR STATION\n",
              "2  126.0  52.222222   7  30    VA  724035                 QUANTICO MCAF\n",
              "3  124.7  51.500000   5   5    WY  720977                 ALPHA (BURNS)\n",
              "4  122.4  50.222222   7  12    CA  999999          STOVEPIPE WELLS 1 SW"
            ],
            "text/html": [
              "\n",
              "  <div id=\"df-74bf7a78-f5aa-4016-8a12-2a812a350434\">\n",
              "    <div class=\"colab-df-container\">\n",
              "      <div>\n",
              "<style scoped>\n",
              "    .dataframe tbody tr th:only-of-type {\n",
              "        vertical-align: middle;\n",
              "    }\n",
              "\n",
              "    .dataframe tbody tr th {\n",
              "        vertical-align: top;\n",
              "    }\n",
              "\n",
              "    .dataframe thead th {\n",
              "        text-align: right;\n",
              "    }\n",
              "</style>\n",
              "<table border=\"1\" class=\"dataframe\">\n",
              "  <thead>\n",
              "    <tr style=\"text-align: right;\">\n",
              "      <th></th>\n",
              "      <th>max</th>\n",
              "      <th>celsius</th>\n",
              "      <th>mo</th>\n",
              "      <th>da</th>\n",
              "      <th>state</th>\n",
              "      <th>stn</th>\n",
              "      <th>name</th>\n",
              "    </tr>\n",
              "  </thead>\n",
              "  <tbody>\n",
              "    <tr>\n",
              "      <th>0</th>\n",
              "      <td>132.8</td>\n",
              "      <td>56.000000</td>\n",
              "      <td>6</td>\n",
              "      <td>26</td>\n",
              "      <td>ME</td>\n",
              "      <td>720472</td>\n",
              "      <td>STEVEN A BEAN MUNI</td>\n",
              "    </tr>\n",
              "    <tr>\n",
              "      <th>1</th>\n",
              "      <td>129.0</td>\n",
              "      <td>53.888889</td>\n",
              "      <td>8</td>\n",
              "      <td>7</td>\n",
              "      <td>TX</td>\n",
              "      <td>722595</td>\n",
              "      <td>FORT WORTH NAVAL AIR STATION</td>\n",
              "    </tr>\n",
              "    <tr>\n",
              "      <th>2</th>\n",
              "      <td>126.0</td>\n",
              "      <td>52.222222</td>\n",
              "      <td>7</td>\n",
              "      <td>30</td>\n",
              "      <td>VA</td>\n",
              "      <td>724035</td>\n",
              "      <td>QUANTICO MCAF</td>\n",
              "    </tr>\n",
              "    <tr>\n",
              "      <th>3</th>\n",
              "      <td>124.7</td>\n",
              "      <td>51.500000</td>\n",
              "      <td>5</td>\n",
              "      <td>5</td>\n",
              "      <td>WY</td>\n",
              "      <td>720977</td>\n",
              "      <td>ALPHA (BURNS)</td>\n",
              "    </tr>\n",
              "    <tr>\n",
              "      <th>4</th>\n",
              "      <td>122.4</td>\n",
              "      <td>50.222222</td>\n",
              "      <td>7</td>\n",
              "      <td>12</td>\n",
              "      <td>CA</td>\n",
              "      <td>999999</td>\n",
              "      <td>STOVEPIPE WELLS 1 SW</td>\n",
              "    </tr>\n",
              "  </tbody>\n",
              "</table>\n",
              "</div>\n",
              "      <button class=\"colab-df-convert\" onclick=\"convertToInteractive('df-74bf7a78-f5aa-4016-8a12-2a812a350434')\"\n",
              "              title=\"Convert this dataframe to an interactive table.\"\n",
              "              style=\"display:none;\">\n",
              "        \n",
              "  <svg xmlns=\"http://www.w3.org/2000/svg\" height=\"24px\"viewBox=\"0 0 24 24\"\n",
              "       width=\"24px\">\n",
              "    <path d=\"M0 0h24v24H0V0z\" fill=\"none\"/>\n",
              "    <path d=\"M18.56 5.44l.94 2.06.94-2.06 2.06-.94-2.06-.94-.94-2.06-.94 2.06-2.06.94zm-11 1L8.5 8.5l.94-2.06 2.06-.94-2.06-.94L8.5 2.5l-.94 2.06-2.06.94zm10 10l.94 2.06.94-2.06 2.06-.94-2.06-.94-.94-2.06-.94 2.06-2.06.94z\"/><path d=\"M17.41 7.96l-1.37-1.37c-.4-.4-.92-.59-1.43-.59-.52 0-1.04.2-1.43.59L10.3 9.45l-7.72 7.72c-.78.78-.78 2.05 0 2.83L4 21.41c.39.39.9.59 1.41.59.51 0 1.02-.2 1.41-.59l7.78-7.78 2.81-2.81c.8-.78.8-2.07 0-2.86zM5.41 20L4 18.59l7.72-7.72 1.47 1.35L5.41 20z\"/>\n",
              "  </svg>\n",
              "      </button>\n",
              "      \n",
              "  <style>\n",
              "    .colab-df-container {\n",
              "      display:flex;\n",
              "      flex-wrap:wrap;\n",
              "      gap: 12px;\n",
              "    }\n",
              "\n",
              "    .colab-df-convert {\n",
              "      background-color: #E8F0FE;\n",
              "      border: none;\n",
              "      border-radius: 50%;\n",
              "      cursor: pointer;\n",
              "      display: none;\n",
              "      fill: #1967D2;\n",
              "      height: 32px;\n",
              "      padding: 0 0 0 0;\n",
              "      width: 32px;\n",
              "    }\n",
              "\n",
              "    .colab-df-convert:hover {\n",
              "      background-color: #E2EBFA;\n",
              "      box-shadow: 0px 1px 2px rgba(60, 64, 67, 0.3), 0px 1px 3px 1px rgba(60, 64, 67, 0.15);\n",
              "      fill: #174EA6;\n",
              "    }\n",
              "\n",
              "    [theme=dark] .colab-df-convert {\n",
              "      background-color: #3B4455;\n",
              "      fill: #D2E3FC;\n",
              "    }\n",
              "\n",
              "    [theme=dark] .colab-df-convert:hover {\n",
              "      background-color: #434B5C;\n",
              "      box-shadow: 0px 1px 3px 1px rgba(0, 0, 0, 0.15);\n",
              "      filter: drop-shadow(0px 1px 2px rgba(0, 0, 0, 0.3));\n",
              "      fill: #FFFFFF;\n",
              "    }\n",
              "  </style>\n",
              "\n",
              "      <script>\n",
              "        const buttonEl =\n",
              "          document.querySelector('#df-74bf7a78-f5aa-4016-8a12-2a812a350434 button.colab-df-convert');\n",
              "        buttonEl.style.display =\n",
              "          google.colab.kernel.accessAllowed ? 'block' : 'none';\n",
              "\n",
              "        async function convertToInteractive(key) {\n",
              "          const element = document.querySelector('#df-74bf7a78-f5aa-4016-8a12-2a812a350434');\n",
              "          const dataTable =\n",
              "            await google.colab.kernel.invokeFunction('convertToInteractive',\n",
              "                                                     [key], {});\n",
              "          if (!dataTable) return;\n",
              "\n",
              "          const docLinkHtml = 'Like what you see? Visit the ' +\n",
              "            '<a target=\"_blank\" href=https://colab.research.google.com/notebooks/data_table.ipynb>data table notebook</a>'\n",
              "            + ' to learn more about interactive tables.';\n",
              "          element.innerHTML = '';\n",
              "          dataTable['output_type'] = 'display_data';\n",
              "          await google.colab.output.renderOutput(dataTable, element);\n",
              "          const docLink = document.createElement('div');\n",
              "          docLink.innerHTML = docLinkHtml;\n",
              "          element.appendChild(docLink);\n",
              "        }\n",
              "      </script>\n",
              "    </div>\n",
              "  </div>\n",
              "  "
            ],
            "application/vnd.google.colaboratory.module+javascript": "\n      import \"https://ssl.gstatic.com/colaboratory/data_table/a8bd4d5e58f96183/data_table.js\";\n\n      window.createDataTable({\n        data: [[{\n            'v': 0,\n            'f': \"0\",\n        },\n{\n            'v': 132.8,\n            'f': \"132.8\",\n        },\n{\n            'v': 56.0,\n            'f': \"56.0\",\n        },\n{\n            'v': 6,\n            'f': \"6\",\n        },\n{\n            'v': 26,\n            'f': \"26\",\n        },\n\"ME\",\n{\n            'v': 720472,\n            'f': \"720472\",\n        },\n\"STEVEN A BEAN MUNI\"],\n [{\n            'v': 1,\n            'f': \"1\",\n        },\n{\n            'v': 129.0,\n            'f': \"129.0\",\n        },\n{\n            'v': 53.88888889,\n            'f': \"53.88888889\",\n        },\n{\n            'v': 8,\n            'f': \"8\",\n        },\n{\n            'v': 7,\n            'f': \"7\",\n        },\n\"TX\",\n{\n            'v': 722595,\n            'f': \"722595\",\n        },\n\"FORT WORTH NAVAL AIR STATION\"],\n [{\n            'v': 2,\n            'f': \"2\",\n        },\n{\n            'v': 126.0,\n            'f': \"126.0\",\n        },\n{\n            'v': 52.22222222,\n            'f': \"52.22222222\",\n        },\n{\n            'v': 7,\n            'f': \"7\",\n        },\n{\n            'v': 30,\n            'f': \"30\",\n        },\n\"VA\",\n{\n            'v': 724035,\n            'f': \"724035\",\n        },\n\"QUANTICO MCAF\"],\n [{\n            'v': 3,\n            'f': \"3\",\n        },\n{\n            'v': 124.7,\n            'f': \"124.7\",\n        },\n{\n            'v': 51.5,\n            'f': \"51.5\",\n        },\n{\n            'v': 5,\n            'f': \"5\",\n        },\n{\n            'v': 5,\n            'f': \"5\",\n        },\n\"WY\",\n{\n            'v': 720977,\n            'f': \"720977\",\n        },\n\"ALPHA (BURNS)\"],\n [{\n            'v': 4,\n            'f': \"4\",\n        },\n{\n            'v': 122.4,\n            'f': \"122.4\",\n        },\n{\n            'v': 50.22222222,\n            'f': \"50.22222222\",\n        },\n{\n            'v': 7,\n            'f': \"7\",\n        },\n{\n            'v': 12,\n            'f': \"12\",\n        },\n\"CA\",\n{\n            'v': 999999,\n            'f': \"999999\",\n        },\n\"STOVEPIPE WELLS 1 SW\"]],\n        columns: [[\"number\", \"index\"], [\"number\", \"max\"], [\"number\", \"celsius\"], [\"number\", \"mo\"], [\"number\", \"da\"], [\"string\", \"state\"], [\"number\", \"stn\"], [\"string\", \"name\"]],\n        columnOptions: [{\"width\": \"1px\", \"className\": \"index_column\"}],\n        rowsPerPage: 25,\n        helpUrl: \"https://colab.research.google.com/notebooks/data_table.ipynb\",\n        suppressOutputScrolling: true,\n        minimumWidth: undefined,\n      });\n    "
          },
          "metadata": {},
          "execution_count": 28
        }
      ]
    },
    {
      "cell_type": "code",
      "source": [
        "fig = px.line(df, x = 'celsius', y = 'state', title='Hottest states in USA (2022)')\n",
        "fig.show()"
      ],
      "metadata": {
        "colab": {
          "base_uri": "https://localhost:8080/",
          "height": 542
        },
        "id": "H9r2woquIT2z",
        "outputId": "d52217b8-bb27-4e95-c1a0-569a32b0269b"
      },
      "execution_count": 29,
      "outputs": [
        {
          "output_type": "display_data",
          "data": {
            "text/html": [
              "<html>\n",
              "<head><meta charset=\"utf-8\" /></head>\n",
              "<body>\n",
              "    <div>            <script src=\"https://cdnjs.cloudflare.com/ajax/libs/mathjax/2.7.5/MathJax.js?config=TeX-AMS-MML_SVG\"></script><script type=\"text/javascript\">if (window.MathJax) {MathJax.Hub.Config({SVG: {font: \"STIX-Web\"}});}</script>                <script type=\"text/javascript\">window.PlotlyConfig = {MathJaxConfig: 'local'};</script>\n",
              "        <script src=\"https://cdn.plot.ly/plotly-2.8.3.min.js\"></script>                <div id=\"b6d5c897-0988-4f12-b042-b9cdccb88153\" class=\"plotly-graph-div\" style=\"height:525px; width:100%;\"></div>            <script type=\"text/javascript\">                                    window.PLOTLYENV=window.PLOTLYENV || {};                                    if (document.getElementById(\"b6d5c897-0988-4f12-b042-b9cdccb88153\")) {                    Plotly.newPlot(                        \"b6d5c897-0988-4f12-b042-b9cdccb88153\",                        [{\"hovertemplate\":\"celsius=%{x}<br>state=%{y}<extra></extra>\",\"legendgroup\":\"\",\"line\":{\"color\":\"#636efa\",\"dash\":\"solid\"},\"marker\":{\"symbol\":\"circle\"},\"mode\":\"lines\",\"name\":\"\",\"orientation\":\"h\",\"showlegend\":false,\"x\":[56.0,53.88888889,52.22222222,51.5,50.22222222,47.11111111,47.0,46.11111111,46.0,45.61111111,44.38888889,44.38888889,44.38888889,43.88888889,43.88888889,43.88888889,43.27777778,43.0,42.77777778,42.22222222,42.22222222,42.22222222,42.0,41.72222222,40.61111111,40.61111111,39.38888889,39.38888889,39.38888889,39.0,39.0,39.0,39.0,38.88888889,38.88888889,38.27777778,38.27777778,38.27777778,38.27777778,37.77777778,37.77777778,37.77777778,37.22222222,37.22222222,37.22222222,36.72222222,36.22222222,35.61111111,35.38888889,35.0,35.0,34.38888889,31.11111111],\"xaxis\":\"x\",\"y\":[\"ME\",\"TX\",\"VA\",\"WY\",\"CA\",\"NV\",\"AZ\",\"OK\",\"MS\",\"OR\",\"KS\",\"NM\",\"WA\",\"SD\",\"NE\",\"UT\",\"CO\",\"GA\",\"FL\",\"ID\",\"MT\",\"AR\",\"IA\",\"MO\",\"LA\",\"AL\",\"ND\",\"TN\",\"SC\",\"MN\",\"MD\",\"WI\",\"NC\",\"NJ\",\"HI\",\"KY\",\"PA\",\"IL\",\"IN\",\"OH\",\"MA\",\"NH\",\"NY\",\"CT\",\"MI\",\"RI\",\"DE\",\"WV\",\"DC\",\"VT\",\"VI\",\"PR\",\"AK\"],\"yaxis\":\"y\",\"type\":\"scatter\"}],                        {\"template\":{\"data\":{\"bar\":[{\"error_x\":{\"color\":\"#2a3f5f\"},\"error_y\":{\"color\":\"#2a3f5f\"},\"marker\":{\"line\":{\"color\":\"#E5ECF6\",\"width\":0.5},\"pattern\":{\"fillmode\":\"overlay\",\"size\":10,\"solidity\":0.2}},\"type\":\"bar\"}],\"barpolar\":[{\"marker\":{\"line\":{\"color\":\"#E5ECF6\",\"width\":0.5},\"pattern\":{\"fillmode\":\"overlay\",\"size\":10,\"solidity\":0.2}},\"type\":\"barpolar\"}],\"carpet\":[{\"aaxis\":{\"endlinecolor\":\"#2a3f5f\",\"gridcolor\":\"white\",\"linecolor\":\"white\",\"minorgridcolor\":\"white\",\"startlinecolor\":\"#2a3f5f\"},\"baxis\":{\"endlinecolor\":\"#2a3f5f\",\"gridcolor\":\"white\",\"linecolor\":\"white\",\"minorgridcolor\":\"white\",\"startlinecolor\":\"#2a3f5f\"},\"type\":\"carpet\"}],\"choropleth\":[{\"colorbar\":{\"outlinewidth\":0,\"ticks\":\"\"},\"type\":\"choropleth\"}],\"contour\":[{\"colorbar\":{\"outlinewidth\":0,\"ticks\":\"\"},\"colorscale\":[[0.0,\"#0d0887\"],[0.1111111111111111,\"#46039f\"],[0.2222222222222222,\"#7201a8\"],[0.3333333333333333,\"#9c179e\"],[0.4444444444444444,\"#bd3786\"],[0.5555555555555556,\"#d8576b\"],[0.6666666666666666,\"#ed7953\"],[0.7777777777777778,\"#fb9f3a\"],[0.8888888888888888,\"#fdca26\"],[1.0,\"#f0f921\"]],\"type\":\"contour\"}],\"contourcarpet\":[{\"colorbar\":{\"outlinewidth\":0,\"ticks\":\"\"},\"type\":\"contourcarpet\"}],\"heatmap\":[{\"colorbar\":{\"outlinewidth\":0,\"ticks\":\"\"},\"colorscale\":[[0.0,\"#0d0887\"],[0.1111111111111111,\"#46039f\"],[0.2222222222222222,\"#7201a8\"],[0.3333333333333333,\"#9c179e\"],[0.4444444444444444,\"#bd3786\"],[0.5555555555555556,\"#d8576b\"],[0.6666666666666666,\"#ed7953\"],[0.7777777777777778,\"#fb9f3a\"],[0.8888888888888888,\"#fdca26\"],[1.0,\"#f0f921\"]],\"type\":\"heatmap\"}],\"heatmapgl\":[{\"colorbar\":{\"outlinewidth\":0,\"ticks\":\"\"},\"colorscale\":[[0.0,\"#0d0887\"],[0.1111111111111111,\"#46039f\"],[0.2222222222222222,\"#7201a8\"],[0.3333333333333333,\"#9c179e\"],[0.4444444444444444,\"#bd3786\"],[0.5555555555555556,\"#d8576b\"],[0.6666666666666666,\"#ed7953\"],[0.7777777777777778,\"#fb9f3a\"],[0.8888888888888888,\"#fdca26\"],[1.0,\"#f0f921\"]],\"type\":\"heatmapgl\"}],\"histogram\":[{\"marker\":{\"pattern\":{\"fillmode\":\"overlay\",\"size\":10,\"solidity\":0.2}},\"type\":\"histogram\"}],\"histogram2d\":[{\"colorbar\":{\"outlinewidth\":0,\"ticks\":\"\"},\"colorscale\":[[0.0,\"#0d0887\"],[0.1111111111111111,\"#46039f\"],[0.2222222222222222,\"#7201a8\"],[0.3333333333333333,\"#9c179e\"],[0.4444444444444444,\"#bd3786\"],[0.5555555555555556,\"#d8576b\"],[0.6666666666666666,\"#ed7953\"],[0.7777777777777778,\"#fb9f3a\"],[0.8888888888888888,\"#fdca26\"],[1.0,\"#f0f921\"]],\"type\":\"histogram2d\"}],\"histogram2dcontour\":[{\"colorbar\":{\"outlinewidth\":0,\"ticks\":\"\"},\"colorscale\":[[0.0,\"#0d0887\"],[0.1111111111111111,\"#46039f\"],[0.2222222222222222,\"#7201a8\"],[0.3333333333333333,\"#9c179e\"],[0.4444444444444444,\"#bd3786\"],[0.5555555555555556,\"#d8576b\"],[0.6666666666666666,\"#ed7953\"],[0.7777777777777778,\"#fb9f3a\"],[0.8888888888888888,\"#fdca26\"],[1.0,\"#f0f921\"]],\"type\":\"histogram2dcontour\"}],\"mesh3d\":[{\"colorbar\":{\"outlinewidth\":0,\"ticks\":\"\"},\"type\":\"mesh3d\"}],\"parcoords\":[{\"line\":{\"colorbar\":{\"outlinewidth\":0,\"ticks\":\"\"}},\"type\":\"parcoords\"}],\"pie\":[{\"automargin\":true,\"type\":\"pie\"}],\"scatter\":[{\"marker\":{\"colorbar\":{\"outlinewidth\":0,\"ticks\":\"\"}},\"type\":\"scatter\"}],\"scatter3d\":[{\"line\":{\"colorbar\":{\"outlinewidth\":0,\"ticks\":\"\"}},\"marker\":{\"colorbar\":{\"outlinewidth\":0,\"ticks\":\"\"}},\"type\":\"scatter3d\"}],\"scattercarpet\":[{\"marker\":{\"colorbar\":{\"outlinewidth\":0,\"ticks\":\"\"}},\"type\":\"scattercarpet\"}],\"scattergeo\":[{\"marker\":{\"colorbar\":{\"outlinewidth\":0,\"ticks\":\"\"}},\"type\":\"scattergeo\"}],\"scattergl\":[{\"marker\":{\"colorbar\":{\"outlinewidth\":0,\"ticks\":\"\"}},\"type\":\"scattergl\"}],\"scattermapbox\":[{\"marker\":{\"colorbar\":{\"outlinewidth\":0,\"ticks\":\"\"}},\"type\":\"scattermapbox\"}],\"scatterpolar\":[{\"marker\":{\"colorbar\":{\"outlinewidth\":0,\"ticks\":\"\"}},\"type\":\"scatterpolar\"}],\"scatterpolargl\":[{\"marker\":{\"colorbar\":{\"outlinewidth\":0,\"ticks\":\"\"}},\"type\":\"scatterpolargl\"}],\"scatterternary\":[{\"marker\":{\"colorbar\":{\"outlinewidth\":0,\"ticks\":\"\"}},\"type\":\"scatterternary\"}],\"surface\":[{\"colorbar\":{\"outlinewidth\":0,\"ticks\":\"\"},\"colorscale\":[[0.0,\"#0d0887\"],[0.1111111111111111,\"#46039f\"],[0.2222222222222222,\"#7201a8\"],[0.3333333333333333,\"#9c179e\"],[0.4444444444444444,\"#bd3786\"],[0.5555555555555556,\"#d8576b\"],[0.6666666666666666,\"#ed7953\"],[0.7777777777777778,\"#fb9f3a\"],[0.8888888888888888,\"#fdca26\"],[1.0,\"#f0f921\"]],\"type\":\"surface\"}],\"table\":[{\"cells\":{\"fill\":{\"color\":\"#EBF0F8\"},\"line\":{\"color\":\"white\"}},\"header\":{\"fill\":{\"color\":\"#C8D4E3\"},\"line\":{\"color\":\"white\"}},\"type\":\"table\"}]},\"layout\":{\"annotationdefaults\":{\"arrowcolor\":\"#2a3f5f\",\"arrowhead\":0,\"arrowwidth\":1},\"autotypenumbers\":\"strict\",\"coloraxis\":{\"colorbar\":{\"outlinewidth\":0,\"ticks\":\"\"}},\"colorscale\":{\"diverging\":[[0,\"#8e0152\"],[0.1,\"#c51b7d\"],[0.2,\"#de77ae\"],[0.3,\"#f1b6da\"],[0.4,\"#fde0ef\"],[0.5,\"#f7f7f7\"],[0.6,\"#e6f5d0\"],[0.7,\"#b8e186\"],[0.8,\"#7fbc41\"],[0.9,\"#4d9221\"],[1,\"#276419\"]],\"sequential\":[[0.0,\"#0d0887\"],[0.1111111111111111,\"#46039f\"],[0.2222222222222222,\"#7201a8\"],[0.3333333333333333,\"#9c179e\"],[0.4444444444444444,\"#bd3786\"],[0.5555555555555556,\"#d8576b\"],[0.6666666666666666,\"#ed7953\"],[0.7777777777777778,\"#fb9f3a\"],[0.8888888888888888,\"#fdca26\"],[1.0,\"#f0f921\"]],\"sequentialminus\":[[0.0,\"#0d0887\"],[0.1111111111111111,\"#46039f\"],[0.2222222222222222,\"#7201a8\"],[0.3333333333333333,\"#9c179e\"],[0.4444444444444444,\"#bd3786\"],[0.5555555555555556,\"#d8576b\"],[0.6666666666666666,\"#ed7953\"],[0.7777777777777778,\"#fb9f3a\"],[0.8888888888888888,\"#fdca26\"],[1.0,\"#f0f921\"]]},\"colorway\":[\"#636efa\",\"#EF553B\",\"#00cc96\",\"#ab63fa\",\"#FFA15A\",\"#19d3f3\",\"#FF6692\",\"#B6E880\",\"#FF97FF\",\"#FECB52\"],\"font\":{\"color\":\"#2a3f5f\"},\"geo\":{\"bgcolor\":\"white\",\"lakecolor\":\"white\",\"landcolor\":\"#E5ECF6\",\"showlakes\":true,\"showland\":true,\"subunitcolor\":\"white\"},\"hoverlabel\":{\"align\":\"left\"},\"hovermode\":\"closest\",\"mapbox\":{\"style\":\"light\"},\"paper_bgcolor\":\"white\",\"plot_bgcolor\":\"#E5ECF6\",\"polar\":{\"angularaxis\":{\"gridcolor\":\"white\",\"linecolor\":\"white\",\"ticks\":\"\"},\"bgcolor\":\"#E5ECF6\",\"radialaxis\":{\"gridcolor\":\"white\",\"linecolor\":\"white\",\"ticks\":\"\"}},\"scene\":{\"xaxis\":{\"backgroundcolor\":\"#E5ECF6\",\"gridcolor\":\"white\",\"gridwidth\":2,\"linecolor\":\"white\",\"showbackground\":true,\"ticks\":\"\",\"zerolinecolor\":\"white\"},\"yaxis\":{\"backgroundcolor\":\"#E5ECF6\",\"gridcolor\":\"white\",\"gridwidth\":2,\"linecolor\":\"white\",\"showbackground\":true,\"ticks\":\"\",\"zerolinecolor\":\"white\"},\"zaxis\":{\"backgroundcolor\":\"#E5ECF6\",\"gridcolor\":\"white\",\"gridwidth\":2,\"linecolor\":\"white\",\"showbackground\":true,\"ticks\":\"\",\"zerolinecolor\":\"white\"}},\"shapedefaults\":{\"line\":{\"color\":\"#2a3f5f\"}},\"ternary\":{\"aaxis\":{\"gridcolor\":\"white\",\"linecolor\":\"white\",\"ticks\":\"\"},\"baxis\":{\"gridcolor\":\"white\",\"linecolor\":\"white\",\"ticks\":\"\"},\"bgcolor\":\"#E5ECF6\",\"caxis\":{\"gridcolor\":\"white\",\"linecolor\":\"white\",\"ticks\":\"\"}},\"title\":{\"x\":0.05},\"xaxis\":{\"automargin\":true,\"gridcolor\":\"white\",\"linecolor\":\"white\",\"ticks\":\"\",\"title\":{\"standoff\":15},\"zerolinecolor\":\"white\",\"zerolinewidth\":2},\"yaxis\":{\"automargin\":true,\"gridcolor\":\"white\",\"linecolor\":\"white\",\"ticks\":\"\",\"title\":{\"standoff\":15},\"zerolinecolor\":\"white\",\"zerolinewidth\":2}}},\"xaxis\":{\"anchor\":\"y\",\"domain\":[0.0,1.0],\"title\":{\"text\":\"celsius\"}},\"yaxis\":{\"anchor\":\"x\",\"domain\":[0.0,1.0],\"title\":{\"text\":\"state\"}},\"legend\":{\"tracegroupgap\":0},\"title\":{\"text\":\"Hottest states in USA (2022)\"}},                        {\"responsive\": true}                    ).then(function(){\n",
              "                            \n",
              "var gd = document.getElementById('b6d5c897-0988-4f12-b042-b9cdccb88153');\n",
              "var x = new MutationObserver(function (mutations, observer) {{\n",
              "        var display = window.getComputedStyle(gd).display;\n",
              "        if (!display || display === 'none') {{\n",
              "            console.log([gd, 'removed!']);\n",
              "            Plotly.purge(gd);\n",
              "            observer.disconnect();\n",
              "        }}\n",
              "}});\n",
              "\n",
              "// Listen for the removal of the full notebook cells\n",
              "var notebookContainer = gd.closest('#notebook-container');\n",
              "if (notebookContainer) {{\n",
              "    x.observe(notebookContainer, {childList: true});\n",
              "}}\n",
              "\n",
              "// Listen for the clearing of the current output cell\n",
              "var outputEl = gd.closest('.output');\n",
              "if (outputEl) {{\n",
              "    x.observe(outputEl, {childList: true});\n",
              "}}\n",
              "\n",
              "                        })                };                            </script>        </div>\n",
              "</body>\n",
              "</html>"
            ]
          },
          "metadata": {}
        }
      ]
    },
    {
      "cell_type": "code",
      "source": [
        "ax = df_cal.plot(kind='bar', x='name', y='celsius', figsize=(23,7))"
      ],
      "metadata": {
        "colab": {
          "base_uri": "https://localhost:8080/",
          "height": 611
        },
        "id": "jsLzZikoHe4Z",
        "outputId": "a2602c8a-9501-4875-d261-1fc502deccf2"
      },
      "execution_count": 38,
      "outputs": [
        {
          "output_type": "display_data",
          "data": {
            "text/plain": [
              "<Figure size 1656x504 with 1 Axes>"
            ],
            "image/png": "[encoded data removed]"
          },
          "metadata": {}
        }
      ]
    },
    {
      "cell_type": "code",
      "source": [
        "fig = px.choropleth(df,locations='state', locationmode=\"USA-states\", color='celsius', scope=\"usa\")\n",
        " \n",
        "fig.show()"
      ],
      "metadata": {
        "colab": {
          "base_uri": "https://localhost:8080/",
          "height": 542
        },
        "id": "zyJ6nCUTFVls",
        "outputId": "42cab6d1-e0ba-4639-8499-c4fc684c9e1a"
      },
      "execution_count": 31,
      "outputs": [
        {
          "output_type": "display_data",
          "data": {
            "text/html": [
              "<html>\n",
              "<head><meta charset=\"utf-8\" /></head>\n",
              "<body>\n",
              "    <div>            <script src=\"https://cdnjs.cloudflare.com/ajax/libs/mathjax/2.7.5/MathJax.js?config=TeX-AMS-MML_SVG\"></script><script type=\"text/javascript\">if (window.MathJax) {MathJax.Hub.Config({SVG: {font: \"STIX-Web\"}});}</script>                <script type=\"text/javascript\">window.PlotlyConfig = {MathJaxConfig: 'local'};</script>\n",
              "        <script src=\"https://cdn.plot.ly/plotly-2.8.3.min.js\"></script>                <div id=\"92a7ea06-4a18-4f9d-af18-3f664acf7c80\" class=\"plotly-graph-div\" style=\"height:525px; width:100%;\"></div>            <script type=\"text/javascript\">                                    window.PLOTLYENV=window.PLOTLYENV || {};                                    if (document.getElementById(\"92a7ea06-4a18-4f9d-af18-3f664acf7c80\")) {                    Plotly.newPlot(                        \"92a7ea06-4a18-4f9d-af18-3f664acf7c80\",                        [{\"coloraxis\":\"coloraxis\",\"geo\":\"geo\",\"hovertemplate\":\"state=%{location}<br>celsius=%{z}<extra></extra>\",\"locationmode\":\"USA-states\",\"locations\":[\"ME\",\"TX\",\"VA\",\"WY\",\"CA\",\"NV\",\"AZ\",\"OK\",\"MS\",\"OR\",\"KS\",\"NM\",\"WA\",\"SD\",\"NE\",\"UT\",\"CO\",\"GA\",\"FL\",\"ID\",\"MT\",\"AR\",\"IA\",\"MO\",\"LA\",\"AL\",\"ND\",\"TN\",\"SC\",\"MN\",\"MD\",\"WI\",\"NC\",\"NJ\",\"HI\",\"KY\",\"PA\",\"IL\",\"IN\",\"OH\",\"MA\",\"NH\",\"NY\",\"CT\",\"MI\",\"RI\",\"DE\",\"WV\",\"DC\",\"VT\",\"VI\",\"PR\",\"AK\"],\"name\":\"\",\"z\":[56.0,53.88888889,52.22222222,51.5,50.22222222,47.11111111,47.0,46.11111111,46.0,45.61111111,44.38888889,44.38888889,44.38888889,43.88888889,43.88888889,43.88888889,43.27777778,43.0,42.77777778,42.22222222,42.22222222,42.22222222,42.0,41.72222222,40.61111111,40.61111111,39.38888889,39.38888889,39.38888889,39.0,39.0,39.0,39.0,38.88888889,38.88888889,38.27777778,38.27777778,38.27777778,38.27777778,37.77777778,37.77777778,37.77777778,37.22222222,37.22222222,37.22222222,36.72222222,36.22222222,35.61111111,35.38888889,35.0,35.0,34.38888889,31.11111111],\"type\":\"choropleth\"}],                        {\"template\":{\"data\":{\"bar\":[{\"error_x\":{\"color\":\"#2a3f5f\"},\"error_y\":{\"color\":\"#2a3f5f\"},\"marker\":{\"line\":{\"color\":\"#E5ECF6\",\"width\":0.5},\"pattern\":{\"fillmode\":\"overlay\",\"size\":10,\"solidity\":0.2}},\"type\":\"bar\"}],\"barpolar\":[{\"marker\":{\"line\":{\"color\":\"#E5ECF6\",\"width\":0.5},\"pattern\":{\"fillmode\":\"overlay\",\"size\":10,\"solidity\":0.2}},\"type\":\"barpolar\"}],\"carpet\":[{\"aaxis\":{\"endlinecolor\":\"#2a3f5f\",\"gridcolor\":\"white\",\"linecolor\":\"white\",\"minorgridcolor\":\"white\",\"startlinecolor\":\"#2a3f5f\"},\"baxis\":{\"endlinecolor\":\"#2a3f5f\",\"gridcolor\":\"white\",\"linecolor\":\"white\",\"minorgridcolor\":\"white\",\"startlinecolor\":\"#2a3f5f\"},\"type\":\"carpet\"}],\"choropleth\":[{\"colorbar\":{\"outlinewidth\":0,\"ticks\":\"\"},\"type\":\"choropleth\"}],\"contour\":[{\"colorbar\":{\"outlinewidth\":0,\"ticks\":\"\"},\"colorscale\":[[0.0,\"#0d0887\"],[0.1111111111111111,\"#46039f\"],[0.2222222222222222,\"#7201a8\"],[0.3333333333333333,\"#9c179e\"],[0.4444444444444444,\"#bd3786\"],[0.5555555555555556,\"#d8576b\"],[0.6666666666666666,\"#ed7953\"],[0.7777777777777778,\"#fb9f3a\"],[0.8888888888888888,\"#fdca26\"],[1.0,\"#f0f921\"]],\"type\":\"contour\"}],\"contourcarpet\":[{\"colorbar\":{\"outlinewidth\":0,\"ticks\":\"\"},\"type\":\"contourcarpet\"}],\"heatmap\":[{\"colorbar\":{\"outlinewidth\":0,\"ticks\":\"\"},\"colorscale\":[[0.0,\"#0d0887\"],[0.1111111111111111,\"#46039f\"],[0.2222222222222222,\"#7201a8\"],[0.3333333333333333,\"#9c179e\"],[0.4444444444444444,\"#bd3786\"],[0.5555555555555556,\"#d8576b\"],[0.6666666666666666,\"#ed7953\"],[0.7777777777777778,\"#fb9f3a\"],[0.8888888888888888,\"#fdca26\"],[1.0,\"#f0f921\"]],\"type\":\"heatmap\"}],\"heatmapgl\":[{\"colorbar\":{\"outlinewidth\":0,\"ticks\":\"\"},\"colorscale\":[[0.0,\"#0d0887\"],[0.1111111111111111,\"#46039f\"],[0.2222222222222222,\"#7201a8\"],[0.3333333333333333,\"#9c179e\"],[0.4444444444444444,\"#bd3786\"],[0.5555555555555556,\"#d8576b\"],[0.6666666666666666,\"#ed7953\"],[0.7777777777777778,\"#fb9f3a\"],[0.8888888888888888,\"#fdca26\"],[1.0,\"#f0f921\"]],\"type\":\"heatmapgl\"}],\"histogram\":[{\"marker\":{\"pattern\":{\"fillmode\":\"overlay\",\"size\":10,\"solidity\":0.2}},\"type\":\"histogram\"}],\"histogram2d\":[{\"colorbar\":{\"outlinewidth\":0,\"ticks\":\"\"},\"colorscale\":[[0.0,\"#0d0887\"],[0.1111111111111111,\"#46039f\"],[0.2222222222222222,\"#7201a8\"],[0.3333333333333333,\"#9c179e\"],[0.4444444444444444,\"#bd3786\"],[0.5555555555555556,\"#d8576b\"],[0.6666666666666666,\"#ed7953\"],[0.7777777777777778,\"#fb9f3a\"],[0.8888888888888888,\"#fdca26\"],[1.0,\"#f0f921\"]],\"type\":\"histogram2d\"}],\"histogram2dcontour\":[{\"colorbar\":{\"outlinewidth\":0,\"ticks\":\"\"},\"colorscale\":[[0.0,\"#0d0887\"],[0.1111111111111111,\"#46039f\"],[0.2222222222222222,\"#7201a8\"],[0.3333333333333333,\"#9c179e\"],[0.4444444444444444,\"#bd3786\"],[0.5555555555555556,\"#d8576b\"],[0.6666666666666666,\"#ed7953\"],[0.7777777777777778,\"#fb9f3a\"],[0.8888888888888888,\"#fdca26\"],[1.0,\"#f0f921\"]],\"type\":\"histogram2dcontour\"}],\"mesh3d\":[{\"colorbar\":{\"outlinewidth\":0,\"ticks\":\"\"},\"type\":\"mesh3d\"}],\"parcoords\":[{\"line\":{\"colorbar\":{\"outlinewidth\":0,\"ticks\":\"\"}},\"type\":\"parcoords\"}],\"pie\":[{\"automargin\":true,\"type\":\"pie\"}],\"scatter\":[{\"marker\":{\"colorbar\":{\"outlinewidth\":0,\"ticks\":\"\"}},\"type\":\"scatter\"}],\"scatter3d\":[{\"line\":{\"colorbar\":{\"outlinewidth\":0,\"ticks\":\"\"}},\"marker\":{\"colorbar\":{\"outlinewidth\":0,\"ticks\":\"\"}},\"type\":\"scatter3d\"}],\"scattercarpet\":[{\"marker\":{\"colorbar\":{\"outlinewidth\":0,\"ticks\":\"\"}},\"type\":\"scattercarpet\"}],\"scattergeo\":[{\"marker\":{\"colorbar\":{\"outlinewidth\":0,\"ticks\":\"\"}},\"type\":\"scattergeo\"}],\"scattergl\":[{\"marker\":{\"colorbar\":{\"outlinewidth\":0,\"ticks\":\"\"}},\"type\":\"scattergl\"}],\"scattermapbox\":[{\"marker\":{\"colorbar\":{\"outlinewidth\":0,\"ticks\":\"\"}},\"type\":\"scattermapbox\"}],\"scatterpolar\":[{\"marker\":{\"colorbar\":{\"outlinewidth\":0,\"ticks\":\"\"}},\"type\":\"scatterpolar\"}],\"scatterpolargl\":[{\"marker\":{\"colorbar\":{\"outlinewidth\":0,\"ticks\":\"\"}},\"type\":\"scatterpolargl\"}],\"scatterternary\":[{\"marker\":{\"colorbar\":{\"outlinewidth\":0,\"ticks\":\"\"}},\"type\":\"scatterternary\"}],\"surface\":[{\"colorbar\":{\"outlinewidth\":0,\"ticks\":\"\"},\"colorscale\":[[0.0,\"#0d0887\"],[0.1111111111111111,\"#46039f\"],[0.2222222222222222,\"#7201a8\"],[0.3333333333333333,\"#9c179e\"],[0.4444444444444444,\"#bd3786\"],[0.5555555555555556,\"#d8576b\"],[0.6666666666666666,\"#ed7953\"],[0.7777777777777778,\"#fb9f3a\"],[0.8888888888888888,\"#fdca26\"],[1.0,\"#f0f921\"]],\"type\":\"surface\"}],\"table\":[{\"cells\":{\"fill\":{\"color\":\"#EBF0F8\"},\"line\":{\"color\":\"white\"}},\"header\":{\"fill\":{\"color\":\"#C8D4E3\"},\"line\":{\"color\":\"white\"}},\"type\":\"table\"}]},\"layout\":{\"annotationdefaults\":{\"arrowcolor\":\"#2a3f5f\",\"arrowhead\":0,\"arrowwidth\":1},\"autotypenumbers\":\"strict\",\"coloraxis\":{\"colorbar\":{\"outlinewidth\":0,\"ticks\":\"\"}},\"colorscale\":{\"diverging\":[[0,\"#8e0152\"],[0.1,\"#c51b7d\"],[0.2,\"#de77ae\"],[0.3,\"#f1b6da\"],[0.4,\"#fde0ef\"],[0.5,\"#f7f7f7\"],[0.6,\"#e6f5d0\"],[0.7,\"#b8e186\"],[0.8,\"#7fbc41\"],[0.9,\"#4d9221\"],[1,\"#276419\"]],\"sequential\":[[0.0,\"#0d0887\"],[0.1111111111111111,\"#46039f\"],[0.2222222222222222,\"#7201a8\"],[0.3333333333333333,\"#9c179e\"],[0.4444444444444444,\"#bd3786\"],[0.5555555555555556,\"#d8576b\"],[0.6666666666666666,\"#ed7953\"],[0.7777777777777778,\"#fb9f3a\"],[0.8888888888888888,\"#fdca26\"],[1.0,\"#f0f921\"]],\"sequentialminus\":[[0.0,\"#0d0887\"],[0.1111111111111111,\"#46039f\"],[0.2222222222222222,\"#7201a8\"],[0.3333333333333333,\"#9c179e\"],[0.4444444444444444,\"#bd3786\"],[0.5555555555555556,\"#d8576b\"],[0.6666666666666666,\"#ed7953\"],[0.7777777777777778,\"#fb9f3a\"],[0.8888888888888888,\"#fdca26\"],[1.0,\"#f0f921\"]]},\"colorway\":[\"#636efa\",\"#EF553B\",\"#00cc96\",\"#ab63fa\",\"#FFA15A\",\"#19d3f3\",\"#FF6692\",\"#B6E880\",\"#FF97FF\",\"#FECB52\"],\"font\":{\"color\":\"#2a3f5f\"},\"geo\":{\"bgcolor\":\"white\",\"lakecolor\":\"white\",\"landcolor\":\"#E5ECF6\",\"showlakes\":true,\"showland\":true,\"subunitcolor\":\"white\"},\"hoverlabel\":{\"align\":\"left\"},\"hovermode\":\"closest\",\"mapbox\":{\"style\":\"light\"},\"paper_bgcolor\":\"white\",\"plot_bgcolor\":\"#E5ECF6\",\"polar\":{\"angularaxis\":{\"gridcolor\":\"white\",\"linecolor\":\"white\",\"ticks\":\"\"},\"bgcolor\":\"#E5ECF6\",\"radialaxis\":{\"gridcolor\":\"white\",\"linecolor\":\"white\",\"ticks\":\"\"}},\"scene\":{\"xaxis\":{\"backgroundcolor\":\"#E5ECF6\",\"gridcolor\":\"white\",\"gridwidth\":2,\"linecolor\":\"white\",\"showbackground\":true,\"ticks\":\"\",\"zerolinecolor\":\"white\"},\"yaxis\":{\"backgroundcolor\":\"#E5ECF6\",\"gridcolor\":\"white\",\"gridwidth\":2,\"linecolor\":\"white\",\"showbackground\":true,\"ticks\":\"\",\"zerolinecolor\":\"white\"},\"zaxis\":{\"backgroundcolor\":\"#E5ECF6\",\"gridcolor\":\"white\",\"gridwidth\":2,\"linecolor\":\"white\",\"showbackground\":true,\"ticks\":\"\",\"zerolinecolor\":\"white\"}},\"shapedefaults\":{\"line\":{\"color\":\"#2a3f5f\"}},\"ternary\":{\"aaxis\":{\"gridcolor\":\"white\",\"linecolor\":\"white\",\"ticks\":\"\"},\"baxis\":{\"gridcolor\":\"white\",\"linecolor\":\"white\",\"ticks\":\"\"},\"bgcolor\":\"#E5ECF6\",\"caxis\":{\"gridcolor\":\"white\",\"linecolor\":\"white\",\"ticks\":\"\"}},\"title\":{\"x\":0.05},\"xaxis\":{\"automargin\":true,\"gridcolor\":\"white\",\"linecolor\":\"white\",\"ticks\":\"\",\"title\":{\"standoff\":15},\"zerolinecolor\":\"white\",\"zerolinewidth\":2},\"yaxis\":{\"automargin\":true,\"gridcolor\":\"white\",\"linecolor\":\"white\",\"ticks\":\"\",\"title\":{\"standoff\":15},\"zerolinecolor\":\"white\",\"zerolinewidth\":2}}},\"geo\":{\"domain\":{\"x\":[0.0,1.0],\"y\":[0.0,1.0]},\"center\":{},\"scope\":\"usa\"},\"coloraxis\":{\"colorbar\":{\"title\":{\"text\":\"celsius\"}},\"colorscale\":[[0.0,\"#0d0887\"],[0.1111111111111111,\"#46039f\"],[0.2222222222222222,\"#7201a8\"],[0.3333333333333333,\"#9c179e\"],[0.4444444444444444,\"#bd3786\"],[0.5555555555555556,\"#d8576b\"],[0.6666666666666666,\"#ed7953\"],[0.7777777777777778,\"#fb9f3a\"],[0.8888888888888888,\"#fdca26\"],[1.0,\"#f0f921\"]]},\"legend\":{\"tracegroupgap\":0},\"margin\":{\"t\":60}},                        {\"responsive\": true}                    ).then(function(){\n",
              "                            \n",
              "var gd = document.getElementById('92a7ea06-4a18-4f9d-af18-3f664acf7c80');\n",
              "var x = new MutationObserver(function (mutations, observer) {{\n",
              "        var display = window.getComputedStyle(gd).display;\n",
              "        if (!display || display === 'none') {{\n",
              "            console.log([gd, 'removed!']);\n",
              "            Plotly.purge(gd);\n",
              "            observer.disconnect();\n",
              "        }}\n",
              "}});\n",
              "\n",
              "// Listen for the removal of the full notebook cells\n",
              "var notebookContainer = gd.closest('#notebook-container');\n",
              "if (notebookContainer) {{\n",
              "    x.observe(notebookContainer, {childList: true});\n",
              "}}\n",
              "\n",
              "// Listen for the clearing of the current output cell\n",
              "var outputEl = gd.closest('.output');\n",
              "if (outputEl) {{\n",
              "    x.observe(outputEl, {childList: true});\n",
              "}}\n",
              "\n",
              "                        })                };                            </script>        </div>\n",
              "</body>\n",
              "</html>"
            ]
          },
          "metadata": {}
        }
      ]
    }
  ]
}